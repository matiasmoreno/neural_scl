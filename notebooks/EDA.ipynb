{
 "cells": [
  {
   "cell_type": "markdown",
   "metadata": {},
   "source": [
    "# Exploratory Data Analysis"
   ]
  },
  {
   "cell_type": "markdown",
   "metadata": {},
   "source": [
    "Comenzaremos explorando los datos de entrada: tipos de datos, distribución, outliers, etc."
   ]
  },
  {
   "cell_type": "code",
   "execution_count": 67,
   "metadata": {},
   "outputs": [],
   "source": [
    "import pandas as pd\n",
    "import numpy as np"
   ]
  },
  {
   "cell_type": "code",
   "execution_count": 68,
   "metadata": {},
   "outputs": [
    {
     "name": "stderr",
     "output_type": "stream",
     "text": [
      "C:\\Users\\alexa\\AppData\\Local\\Temp\\ipykernel_8500\\2513056093.py:1: DtypeWarning: Columns (1,6) have mixed types. Specify dtype option on import or set low_memory=False.\n",
      "  dataset_scl = pd.read_csv(\"../input_data/dataset_SCL.csv\", parse_dates=True)\n"
     ]
    }
   ],
   "source": [
    "dataset_scl = pd.read_csv(\"../input_data/dataset_SCL.csv\", parse_dates=True)"
   ]
  },
  {
   "cell_type": "code",
   "execution_count": 69,
   "metadata": {},
   "outputs": [
    {
     "data": {
      "text/plain": [
       "(68206, 18)"
      ]
     },
     "execution_count": 69,
     "metadata": {},
     "output_type": "execute_result"
    }
   ],
   "source": [
    "dataset_scl.shape"
   ]
  },
  {
   "cell_type": "markdown",
   "metadata": {},
   "source": [
    "Tenemos 18 columnas y 68.206 resgitros de vuelos"
   ]
  },
  {
   "cell_type": "code",
   "execution_count": 70,
   "metadata": {},
   "outputs": [
    {
     "data": {
      "text/html": [
       "<div>\n",
       "<style scoped>\n",
       "    .dataframe tbody tr th:only-of-type {\n",
       "        vertical-align: middle;\n",
       "    }\n",
       "\n",
       "    .dataframe tbody tr th {\n",
       "        vertical-align: top;\n",
       "    }\n",
       "\n",
       "    .dataframe thead th {\n",
       "        text-align: right;\n",
       "    }\n",
       "</style>\n",
       "<table border=\"1\" class=\"dataframe\">\n",
       "  <thead>\n",
       "    <tr style=\"text-align: right;\">\n",
       "      <th></th>\n",
       "      <th>Fecha-I</th>\n",
       "      <th>Vlo-I</th>\n",
       "      <th>Ori-I</th>\n",
       "      <th>Des-I</th>\n",
       "      <th>Emp-I</th>\n",
       "      <th>Fecha-O</th>\n",
       "      <th>Vlo-O</th>\n",
       "      <th>Ori-O</th>\n",
       "      <th>Des-O</th>\n",
       "      <th>Emp-O</th>\n",
       "      <th>DIA</th>\n",
       "      <th>MES</th>\n",
       "      <th>AÑO</th>\n",
       "      <th>DIANOM</th>\n",
       "      <th>TIPOVUELO</th>\n",
       "      <th>OPERA</th>\n",
       "      <th>SIGLAORI</th>\n",
       "      <th>SIGLADES</th>\n",
       "    </tr>\n",
       "  </thead>\n",
       "  <tbody>\n",
       "    <tr>\n",
       "      <th>0</th>\n",
       "      <td>2017-01-01 23:30:00</td>\n",
       "      <td>226</td>\n",
       "      <td>SCEL</td>\n",
       "      <td>KMIA</td>\n",
       "      <td>AAL</td>\n",
       "      <td>2017-01-01 23:33:00</td>\n",
       "      <td>226</td>\n",
       "      <td>SCEL</td>\n",
       "      <td>KMIA</td>\n",
       "      <td>AAL</td>\n",
       "      <td>1</td>\n",
       "      <td>1</td>\n",
       "      <td>2017</td>\n",
       "      <td>Domingo</td>\n",
       "      <td>I</td>\n",
       "      <td>American Airlines</td>\n",
       "      <td>Santiago</td>\n",
       "      <td>Miami</td>\n",
       "    </tr>\n",
       "    <tr>\n",
       "      <th>1</th>\n",
       "      <td>2017-01-02 23:30:00</td>\n",
       "      <td>226</td>\n",
       "      <td>SCEL</td>\n",
       "      <td>KMIA</td>\n",
       "      <td>AAL</td>\n",
       "      <td>2017-01-02 23:39:00</td>\n",
       "      <td>226</td>\n",
       "      <td>SCEL</td>\n",
       "      <td>KMIA</td>\n",
       "      <td>AAL</td>\n",
       "      <td>2</td>\n",
       "      <td>1</td>\n",
       "      <td>2017</td>\n",
       "      <td>Lunes</td>\n",
       "      <td>I</td>\n",
       "      <td>American Airlines</td>\n",
       "      <td>Santiago</td>\n",
       "      <td>Miami</td>\n",
       "    </tr>\n",
       "  </tbody>\n",
       "</table>\n",
       "</div>"
      ],
      "text/plain": [
       "               Fecha-I Vlo-I Ori-I Des-I Emp-I              Fecha-O Vlo-O  \\\n",
       "0  2017-01-01 23:30:00   226  SCEL  KMIA   AAL  2017-01-01 23:33:00   226   \n",
       "1  2017-01-02 23:30:00   226  SCEL  KMIA   AAL  2017-01-02 23:39:00   226   \n",
       "\n",
       "  Ori-O Des-O Emp-O  DIA  MES   AÑO   DIANOM TIPOVUELO              OPERA  \\\n",
       "0  SCEL  KMIA   AAL    1    1  2017  Domingo         I  American Airlines   \n",
       "1  SCEL  KMIA   AAL    2    1  2017    Lunes         I  American Airlines   \n",
       "\n",
       "   SIGLAORI SIGLADES  \n",
       "0  Santiago    Miami  \n",
       "1  Santiago    Miami  "
      ]
     },
     "execution_count": 70,
     "metadata": {},
     "output_type": "execute_result"
    }
   ],
   "source": [
    "dataset_scl.head(2)"
   ]
  },
  {
   "cell_type": "markdown",
   "metadata": {},
   "source": [
    "Corregir el error de tipos de datos"
   ]
  },
  {
   "cell_type": "code",
   "execution_count": 71,
   "metadata": {},
   "outputs": [],
   "source": [
    "# Fecha-I\n",
    "dataset_scl['Fecha-I'] = pd.to_datetime(dataset_scl['Fecha-I'])\n",
    "dataset_scl['Fecha-O'] = pd.to_datetime(dataset_scl['Fecha-O'])"
   ]
  },
  {
   "cell_type": "code",
   "execution_count": 72,
   "metadata": {},
   "outputs": [
    {
     "data": {
      "text/html": [
       "<div>\n",
       "<style scoped>\n",
       "    .dataframe tbody tr th:only-of-type {\n",
       "        vertical-align: middle;\n",
       "    }\n",
       "\n",
       "    .dataframe tbody tr th {\n",
       "        vertical-align: top;\n",
       "    }\n",
       "\n",
       "    .dataframe thead th {\n",
       "        text-align: right;\n",
       "    }\n",
       "</style>\n",
       "<table border=\"1\" class=\"dataframe\">\n",
       "  <thead>\n",
       "    <tr style=\"text-align: right;\">\n",
       "      <th></th>\n",
       "      <th>Fecha-I</th>\n",
       "      <th>Vlo-I</th>\n",
       "      <th>Ori-I</th>\n",
       "      <th>Des-I</th>\n",
       "      <th>Emp-I</th>\n",
       "      <th>Fecha-O</th>\n",
       "      <th>Vlo-O</th>\n",
       "      <th>Ori-O</th>\n",
       "      <th>Des-O</th>\n",
       "      <th>Emp-O</th>\n",
       "      <th>DIA</th>\n",
       "      <th>MES</th>\n",
       "      <th>AÑO</th>\n",
       "      <th>DIANOM</th>\n",
       "      <th>TIPOVUELO</th>\n",
       "      <th>OPERA</th>\n",
       "      <th>SIGLAORI</th>\n",
       "      <th>SIGLADES</th>\n",
       "    </tr>\n",
       "  </thead>\n",
       "  <tbody>\n",
       "    <tr>\n",
       "      <th>22232</th>\n",
       "      <td>2017-05-13 21:50:00</td>\n",
       "      <td>989P</td>\n",
       "      <td>SCEL</td>\n",
       "      <td>SUMU</td>\n",
       "      <td>AAL</td>\n",
       "      <td>2017-05-13 21:52:00</td>\n",
       "      <td>989</td>\n",
       "      <td>SCEL</td>\n",
       "      <td>SUMU</td>\n",
       "      <td>AAL</td>\n",
       "      <td>13</td>\n",
       "      <td>5</td>\n",
       "      <td>2017</td>\n",
       "      <td>Sabado</td>\n",
       "      <td>I</td>\n",
       "      <td>American Airlines</td>\n",
       "      <td>Santiago</td>\n",
       "      <td>Montevideo</td>\n",
       "    </tr>\n",
       "    <tr>\n",
       "      <th>27464</th>\n",
       "      <td>2017-06-16 20:30:00</td>\n",
       "      <td>940P</td>\n",
       "      <td>SCEL</td>\n",
       "      <td>KDFW</td>\n",
       "      <td>AAL</td>\n",
       "      <td>2017-06-16 20:50:00</td>\n",
       "      <td>940</td>\n",
       "      <td>SCEL</td>\n",
       "      <td>KDFW</td>\n",
       "      <td>AAL</td>\n",
       "      <td>16</td>\n",
       "      <td>6</td>\n",
       "      <td>2017</td>\n",
       "      <td>Viernes</td>\n",
       "      <td>I</td>\n",
       "      <td>American Airlines</td>\n",
       "      <td>Santiago</td>\n",
       "      <td>Dallas</td>\n",
       "    </tr>\n",
       "    <tr>\n",
       "      <th>39225</th>\n",
       "      <td>2017-08-07 19:00:00</td>\n",
       "      <td>591P</td>\n",
       "      <td>SCEL</td>\n",
       "      <td>LFPG</td>\n",
       "      <td>PUE</td>\n",
       "      <td>2017-08-07 20:35:00</td>\n",
       "      <td>591P</td>\n",
       "      <td>SCEL</td>\n",
       "      <td>LFPG</td>\n",
       "      <td>PUE</td>\n",
       "      <td>7</td>\n",
       "      <td>8</td>\n",
       "      <td>2017</td>\n",
       "      <td>Lunes</td>\n",
       "      <td>I</td>\n",
       "      <td>Plus Ultra Lineas Aereas</td>\n",
       "      <td>Santiago</td>\n",
       "      <td>Paris</td>\n",
       "    </tr>\n",
       "    <tr>\n",
       "      <th>39266</th>\n",
       "      <td>2017-08-24 23:00:00</td>\n",
       "      <td>846A</td>\n",
       "      <td>SCEL</td>\n",
       "      <td>KIAH</td>\n",
       "      <td>UAL</td>\n",
       "      <td>2017-08-24 23:00:00</td>\n",
       "      <td>2804</td>\n",
       "      <td>SCEL</td>\n",
       "      <td>KIAH</td>\n",
       "      <td>UAL</td>\n",
       "      <td>24</td>\n",
       "      <td>8</td>\n",
       "      <td>2017</td>\n",
       "      <td>Jueves</td>\n",
       "      <td>I</td>\n",
       "      <td>United Airlines</td>\n",
       "      <td>Santiago</td>\n",
       "      <td>Houston</td>\n",
       "    </tr>\n",
       "    <tr>\n",
       "      <th>58126</th>\n",
       "      <td>2017-11-05 17:00:00</td>\n",
       "      <td>1104A</td>\n",
       "      <td>SCEL</td>\n",
       "      <td>SCSE</td>\n",
       "      <td>SKU</td>\n",
       "      <td>2017-11-05 17:42:00</td>\n",
       "      <td>1104</td>\n",
       "      <td>SCEL</td>\n",
       "      <td>SCSE</td>\n",
       "      <td>SKU</td>\n",
       "      <td>5</td>\n",
       "      <td>11</td>\n",
       "      <td>2017</td>\n",
       "      <td>Domingo</td>\n",
       "      <td>N</td>\n",
       "      <td>Sky Airline</td>\n",
       "      <td>Santiago</td>\n",
       "      <td>La Serena</td>\n",
       "    </tr>\n",
       "  </tbody>\n",
       "</table>\n",
       "</div>"
      ],
      "text/plain": [
       "                  Fecha-I  Vlo-I Ori-I Des-I Emp-I             Fecha-O Vlo-O  \\\n",
       "22232 2017-05-13 21:50:00   989P  SCEL  SUMU   AAL 2017-05-13 21:52:00   989   \n",
       "27464 2017-06-16 20:30:00   940P  SCEL  KDFW   AAL 2017-06-16 20:50:00   940   \n",
       "39225 2017-08-07 19:00:00   591P  SCEL  LFPG   PUE 2017-08-07 20:35:00  591P   \n",
       "39266 2017-08-24 23:00:00   846A  SCEL  KIAH   UAL 2017-08-24 23:00:00  2804   \n",
       "58126 2017-11-05 17:00:00  1104A  SCEL  SCSE   SKU 2017-11-05 17:42:00  1104   \n",
       "\n",
       "      Ori-O Des-O Emp-O  DIA  MES   AÑO   DIANOM TIPOVUELO  \\\n",
       "22232  SCEL  SUMU   AAL   13    5  2017   Sabado         I   \n",
       "27464  SCEL  KDFW   AAL   16    6  2017  Viernes         I   \n",
       "39225  SCEL  LFPG   PUE    7    8  2017    Lunes         I   \n",
       "39266  SCEL  KIAH   UAL   24    8  2017   Jueves         I   \n",
       "58126  SCEL  SCSE   SKU    5   11  2017  Domingo         N   \n",
       "\n",
       "                          OPERA  SIGLAORI    SIGLADES  \n",
       "22232         American Airlines  Santiago  Montevideo  \n",
       "27464         American Airlines  Santiago      Dallas  \n",
       "39225  Plus Ultra Lineas Aereas  Santiago       Paris  \n",
       "39266           United Airlines  Santiago     Houston  \n",
       "58126               Sky Airline  Santiago   La Serena  "
      ]
     },
     "execution_count": 72,
     "metadata": {},
     "output_type": "execute_result"
    }
   ],
   "source": [
    "dataset_scl[pd.to_numeric(dataset_scl['Vlo-I'], errors='coerce').isnull()]"
   ]
  },
  {
   "cell_type": "code",
   "execution_count": 73,
   "metadata": {},
   "outputs": [
    {
     "data": {
      "text/html": [
       "<div>\n",
       "<style scoped>\n",
       "    .dataframe tbody tr th:only-of-type {\n",
       "        vertical-align: middle;\n",
       "    }\n",
       "\n",
       "    .dataframe tbody tr th {\n",
       "        vertical-align: top;\n",
       "    }\n",
       "\n",
       "    .dataframe thead th {\n",
       "        text-align: right;\n",
       "    }\n",
       "</style>\n",
       "<table border=\"1\" class=\"dataframe\">\n",
       "  <thead>\n",
       "    <tr style=\"text-align: right;\">\n",
       "      <th></th>\n",
       "      <th>Fecha-I</th>\n",
       "      <th>Vlo-I</th>\n",
       "      <th>Ori-I</th>\n",
       "      <th>Des-I</th>\n",
       "      <th>Emp-I</th>\n",
       "      <th>Fecha-O</th>\n",
       "      <th>Vlo-O</th>\n",
       "      <th>Ori-O</th>\n",
       "      <th>Des-O</th>\n",
       "      <th>Emp-O</th>\n",
       "      <th>DIA</th>\n",
       "      <th>MES</th>\n",
       "      <th>AÑO</th>\n",
       "      <th>DIANOM</th>\n",
       "      <th>TIPOVUELO</th>\n",
       "      <th>OPERA</th>\n",
       "      <th>SIGLAORI</th>\n",
       "      <th>SIGLADES</th>\n",
       "    </tr>\n",
       "  </thead>\n",
       "  <tbody>\n",
       "    <tr>\n",
       "      <th>6068</th>\n",
       "      <td>2017-01-19 11:00:00</td>\n",
       "      <td>200</td>\n",
       "      <td>SCEL</td>\n",
       "      <td>SPJC</td>\n",
       "      <td>LAW</td>\n",
       "      <td>2017-01-19 11:03:00</td>\n",
       "      <td>NaN</td>\n",
       "      <td>SCEL</td>\n",
       "      <td>SPJC</td>\n",
       "      <td>56R</td>\n",
       "      <td>19</td>\n",
       "      <td>1</td>\n",
       "      <td>2017</td>\n",
       "      <td>Jueves</td>\n",
       "      <td>I</td>\n",
       "      <td>Latin American Wings</td>\n",
       "      <td>Santiago</td>\n",
       "      <td>Lima</td>\n",
       "    </tr>\n",
       "    <tr>\n",
       "      <th>13906</th>\n",
       "      <td>2017-03-30 10:30:00</td>\n",
       "      <td>71</td>\n",
       "      <td>SCEL</td>\n",
       "      <td>SCIE</td>\n",
       "      <td>SKU</td>\n",
       "      <td>2017-03-30 10:50:00</td>\n",
       "      <td>71R</td>\n",
       "      <td>SCEL</td>\n",
       "      <td>SCIE</td>\n",
       "      <td>SKU</td>\n",
       "      <td>30</td>\n",
       "      <td>3</td>\n",
       "      <td>2017</td>\n",
       "      <td>Jueves</td>\n",
       "      <td>N</td>\n",
       "      <td>Sky Airline</td>\n",
       "      <td>Santiago</td>\n",
       "      <td>Concepcion</td>\n",
       "    </tr>\n",
       "    <tr>\n",
       "      <th>13907</th>\n",
       "      <td>2017-03-22 11:00:00</td>\n",
       "      <td>1071</td>\n",
       "      <td>SCEL</td>\n",
       "      <td>SCIE</td>\n",
       "      <td>SKU</td>\n",
       "      <td>2017-03-22 11:00:00</td>\n",
       "      <td>71R</td>\n",
       "      <td>SCEL</td>\n",
       "      <td>SCIE</td>\n",
       "      <td>SKU</td>\n",
       "      <td>22</td>\n",
       "      <td>3</td>\n",
       "      <td>2017</td>\n",
       "      <td>Miercoles</td>\n",
       "      <td>N</td>\n",
       "      <td>Sky Airline</td>\n",
       "      <td>Santiago</td>\n",
       "      <td>Concepcion</td>\n",
       "    </tr>\n",
       "    <tr>\n",
       "      <th>17055</th>\n",
       "      <td>2017-03-22 10:00:00</td>\n",
       "      <td>201</td>\n",
       "      <td>SCEL</td>\n",
       "      <td>SCIE</td>\n",
       "      <td>LXP</td>\n",
       "      <td>2017-03-22 11:50:00</td>\n",
       "      <td>201R</td>\n",
       "      <td>SCEL</td>\n",
       "      <td>SCIE</td>\n",
       "      <td>LXP</td>\n",
       "      <td>22</td>\n",
       "      <td>3</td>\n",
       "      <td>2017</td>\n",
       "      <td>Miercoles</td>\n",
       "      <td>N</td>\n",
       "      <td>Grupo LATAM</td>\n",
       "      <td>Santiago</td>\n",
       "      <td>Concepcion</td>\n",
       "    </tr>\n",
       "    <tr>\n",
       "      <th>19207</th>\n",
       "      <td>2017-04-25 09:00:00</td>\n",
       "      <td>71</td>\n",
       "      <td>SCEL</td>\n",
       "      <td>SCIE</td>\n",
       "      <td>SKU</td>\n",
       "      <td>2017-04-25 09:29:00</td>\n",
       "      <td>71R</td>\n",
       "      <td>SCEL</td>\n",
       "      <td>SCIE</td>\n",
       "      <td>SKU</td>\n",
       "      <td>25</td>\n",
       "      <td>4</td>\n",
       "      <td>2017</td>\n",
       "      <td>Martes</td>\n",
       "      <td>N</td>\n",
       "      <td>Sky Airline</td>\n",
       "      <td>Santiago</td>\n",
       "      <td>Concepcion</td>\n",
       "    </tr>\n",
       "    <tr>\n",
       "      <th>22167</th>\n",
       "      <td>2017-04-06 21:10:00</td>\n",
       "      <td>43</td>\n",
       "      <td>SCEL</td>\n",
       "      <td>SCIE</td>\n",
       "      <td>LAW</td>\n",
       "      <td>2017-04-06 21:24:00</td>\n",
       "      <td>43R</td>\n",
       "      <td>SCEL</td>\n",
       "      <td>SCIE</td>\n",
       "      <td>JMR</td>\n",
       "      <td>6</td>\n",
       "      <td>4</td>\n",
       "      <td>2017</td>\n",
       "      <td>Jueves</td>\n",
       "      <td>N</td>\n",
       "      <td>Latin American Wings</td>\n",
       "      <td>Santiago</td>\n",
       "      <td>Concepcion</td>\n",
       "    </tr>\n",
       "    <tr>\n",
       "      <th>22301</th>\n",
       "      <td>2017-05-26 09:40:00</td>\n",
       "      <td>401</td>\n",
       "      <td>SCEL</td>\n",
       "      <td>LFPG</td>\n",
       "      <td>AFR</td>\n",
       "      <td>2017-05-26 10:03:00</td>\n",
       "      <td>401A</td>\n",
       "      <td>SCEL</td>\n",
       "      <td>LFPG</td>\n",
       "      <td>AFR</td>\n",
       "      <td>26</td>\n",
       "      <td>5</td>\n",
       "      <td>2017</td>\n",
       "      <td>Viernes</td>\n",
       "      <td>I</td>\n",
       "      <td>Air France</td>\n",
       "      <td>Santiago</td>\n",
       "      <td>Paris</td>\n",
       "    </tr>\n",
       "    <tr>\n",
       "      <th>22302</th>\n",
       "      <td>2017-05-28 09:40:00</td>\n",
       "      <td>401</td>\n",
       "      <td>SCEL</td>\n",
       "      <td>LFPG</td>\n",
       "      <td>AFR</td>\n",
       "      <td>2017-05-28 09:43:00</td>\n",
       "      <td>401B</td>\n",
       "      <td>SCEL</td>\n",
       "      <td>LFPG</td>\n",
       "      <td>AFR</td>\n",
       "      <td>28</td>\n",
       "      <td>5</td>\n",
       "      <td>2017</td>\n",
       "      <td>Domingo</td>\n",
       "      <td>I</td>\n",
       "      <td>Air France</td>\n",
       "      <td>Santiago</td>\n",
       "      <td>Paris</td>\n",
       "    </tr>\n",
       "    <tr>\n",
       "      <th>24304</th>\n",
       "      <td>2017-05-11 10:00:00</td>\n",
       "      <td>802</td>\n",
       "      <td>SCEL</td>\n",
       "      <td>SPJC</td>\n",
       "      <td>SKU</td>\n",
       "      <td>2017-05-11 10:36:00</td>\n",
       "      <td>802R</td>\n",
       "      <td>SCEL</td>\n",
       "      <td>SPJC</td>\n",
       "      <td>SKU</td>\n",
       "      <td>11</td>\n",
       "      <td>5</td>\n",
       "      <td>2017</td>\n",
       "      <td>Jueves</td>\n",
       "      <td>I</td>\n",
       "      <td>Sky Airline</td>\n",
       "      <td>Santiago</td>\n",
       "      <td>Lima</td>\n",
       "    </tr>\n",
       "    <tr>\n",
       "      <th>27246</th>\n",
       "      <td>2017-05-15 12:15:00</td>\n",
       "      <td>114</td>\n",
       "      <td>SCEL</td>\n",
       "      <td>SCAT</td>\n",
       "      <td>LAN</td>\n",
       "      <td>2017-05-15 13:10:00</td>\n",
       "      <td>114R</td>\n",
       "      <td>SCEL</td>\n",
       "      <td>SCAT</td>\n",
       "      <td>LAN</td>\n",
       "      <td>15</td>\n",
       "      <td>5</td>\n",
       "      <td>2017</td>\n",
       "      <td>Lunes</td>\n",
       "      <td>N</td>\n",
       "      <td>Grupo LATAM</td>\n",
       "      <td>Santiago</td>\n",
       "      <td>Copiapo</td>\n",
       "    </tr>\n",
       "    <tr>\n",
       "      <th>27247</th>\n",
       "      <td>2017-05-25 13:15:00</td>\n",
       "      <td>622</td>\n",
       "      <td>SCEL</td>\n",
       "      <td>MMMX</td>\n",
       "      <td>LAN</td>\n",
       "      <td>2017-05-25 13:23:00</td>\n",
       "      <td>622R</td>\n",
       "      <td>SCEL</td>\n",
       "      <td>MMMX</td>\n",
       "      <td>LAN</td>\n",
       "      <td>25</td>\n",
       "      <td>5</td>\n",
       "      <td>2017</td>\n",
       "      <td>Jueves</td>\n",
       "      <td>I</td>\n",
       "      <td>Grupo LATAM</td>\n",
       "      <td>Santiago</td>\n",
       "      <td>Ciudad de Mexico</td>\n",
       "    </tr>\n",
       "    <tr>\n",
       "      <th>32196</th>\n",
       "      <td>2017-06-29 12:40:00</td>\n",
       "      <td>492</td>\n",
       "      <td>SCEL</td>\n",
       "      <td>SACO</td>\n",
       "      <td>LAN</td>\n",
       "      <td>2017-06-29 12:27:00</td>\n",
       "      <td>492R</td>\n",
       "      <td>SCEL</td>\n",
       "      <td>SACO</td>\n",
       "      <td>LAN</td>\n",
       "      <td>29</td>\n",
       "      <td>6</td>\n",
       "      <td>2017</td>\n",
       "      <td>Jueves</td>\n",
       "      <td>I</td>\n",
       "      <td>Grupo LATAM</td>\n",
       "      <td>Santiago</td>\n",
       "      <td>Cordoba</td>\n",
       "    </tr>\n",
       "    <tr>\n",
       "      <th>38150</th>\n",
       "      <td>2017-07-10 23:30:00</td>\n",
       "      <td>338</td>\n",
       "      <td>SCEL</td>\n",
       "      <td>SCFA</td>\n",
       "      <td>LXP</td>\n",
       "      <td>2017-07-10 23:35:00</td>\n",
       "      <td>338R</td>\n",
       "      <td>SCEL</td>\n",
       "      <td>SCFA</td>\n",
       "      <td>LXP</td>\n",
       "      <td>10</td>\n",
       "      <td>7</td>\n",
       "      <td>2017</td>\n",
       "      <td>Lunes</td>\n",
       "      <td>N</td>\n",
       "      <td>Grupo LATAM</td>\n",
       "      <td>Santiago</td>\n",
       "      <td>Antofagasta</td>\n",
       "    </tr>\n",
       "    <tr>\n",
       "      <th>39225</th>\n",
       "      <td>2017-08-07 19:00:00</td>\n",
       "      <td>591P</td>\n",
       "      <td>SCEL</td>\n",
       "      <td>LFPG</td>\n",
       "      <td>PUE</td>\n",
       "      <td>2017-08-07 20:35:00</td>\n",
       "      <td>591P</td>\n",
       "      <td>SCEL</td>\n",
       "      <td>LFPG</td>\n",
       "      <td>PUE</td>\n",
       "      <td>7</td>\n",
       "      <td>8</td>\n",
       "      <td>2017</td>\n",
       "      <td>Lunes</td>\n",
       "      <td>I</td>\n",
       "      <td>Plus Ultra Lineas Aereas</td>\n",
       "      <td>Santiago</td>\n",
       "      <td>Paris</td>\n",
       "    </tr>\n",
       "    <tr>\n",
       "      <th>44939</th>\n",
       "      <td>2017-09-28 21:30:00</td>\n",
       "      <td>846</td>\n",
       "      <td>SCEL</td>\n",
       "      <td>KIAH</td>\n",
       "      <td>UAL</td>\n",
       "      <td>2017-09-28 21:44:00</td>\n",
       "      <td>846A</td>\n",
       "      <td>SCEL</td>\n",
       "      <td>KIAH</td>\n",
       "      <td>UAL</td>\n",
       "      <td>28</td>\n",
       "      <td>9</td>\n",
       "      <td>2017</td>\n",
       "      <td>Jueves</td>\n",
       "      <td>I</td>\n",
       "      <td>United Airlines</td>\n",
       "      <td>Santiago</td>\n",
       "      <td>Houston</td>\n",
       "    </tr>\n",
       "    <tr>\n",
       "      <th>55354</th>\n",
       "      <td>2017-10-19 03:30:00</td>\n",
       "      <td>502</td>\n",
       "      <td>SCEL</td>\n",
       "      <td>KMIA</td>\n",
       "      <td>LAN</td>\n",
       "      <td>2017-10-19 03:33:00</td>\n",
       "      <td>502R</td>\n",
       "      <td>SCEL</td>\n",
       "      <td>KMIA</td>\n",
       "      <td>LAN</td>\n",
       "      <td>19</td>\n",
       "      <td>10</td>\n",
       "      <td>2017</td>\n",
       "      <td>Jueves</td>\n",
       "      <td>I</td>\n",
       "      <td>Grupo LATAM</td>\n",
       "      <td>Santiago</td>\n",
       "      <td>Miami</td>\n",
       "    </tr>\n",
       "    <tr>\n",
       "      <th>61426</th>\n",
       "      <td>2017-11-05 16:30:00</td>\n",
       "      <td>207</td>\n",
       "      <td>SCEL</td>\n",
       "      <td>SCIE</td>\n",
       "      <td>LXP</td>\n",
       "      <td>2017-11-05 18:22:00</td>\n",
       "      <td>207R</td>\n",
       "      <td>SCEL</td>\n",
       "      <td>SCIE</td>\n",
       "      <td>LXP</td>\n",
       "      <td>5</td>\n",
       "      <td>11</td>\n",
       "      <td>2017</td>\n",
       "      <td>Domingo</td>\n",
       "      <td>N</td>\n",
       "      <td>Grupo LATAM</td>\n",
       "      <td>Santiago</td>\n",
       "      <td>Concepcion</td>\n",
       "    </tr>\n",
       "  </tbody>\n",
       "</table>\n",
       "</div>"
      ],
      "text/plain": [
       "                  Fecha-I Vlo-I Ori-I Des-I Emp-I             Fecha-O Vlo-O  \\\n",
       "6068  2017-01-19 11:00:00   200  SCEL  SPJC   LAW 2017-01-19 11:03:00   NaN   \n",
       "13906 2017-03-30 10:30:00    71  SCEL  SCIE   SKU 2017-03-30 10:50:00   71R   \n",
       "13907 2017-03-22 11:00:00  1071  SCEL  SCIE   SKU 2017-03-22 11:00:00   71R   \n",
       "17055 2017-03-22 10:00:00   201  SCEL  SCIE   LXP 2017-03-22 11:50:00  201R   \n",
       "19207 2017-04-25 09:00:00    71  SCEL  SCIE   SKU 2017-04-25 09:29:00   71R   \n",
       "22167 2017-04-06 21:10:00    43  SCEL  SCIE   LAW 2017-04-06 21:24:00   43R   \n",
       "22301 2017-05-26 09:40:00   401  SCEL  LFPG   AFR 2017-05-26 10:03:00  401A   \n",
       "22302 2017-05-28 09:40:00   401  SCEL  LFPG   AFR 2017-05-28 09:43:00  401B   \n",
       "24304 2017-05-11 10:00:00   802  SCEL  SPJC   SKU 2017-05-11 10:36:00  802R   \n",
       "27246 2017-05-15 12:15:00   114  SCEL  SCAT   LAN 2017-05-15 13:10:00  114R   \n",
       "27247 2017-05-25 13:15:00   622  SCEL  MMMX   LAN 2017-05-25 13:23:00  622R   \n",
       "32196 2017-06-29 12:40:00   492  SCEL  SACO   LAN 2017-06-29 12:27:00  492R   \n",
       "38150 2017-07-10 23:30:00   338  SCEL  SCFA   LXP 2017-07-10 23:35:00  338R   \n",
       "39225 2017-08-07 19:00:00  591P  SCEL  LFPG   PUE 2017-08-07 20:35:00  591P   \n",
       "44939 2017-09-28 21:30:00   846  SCEL  KIAH   UAL 2017-09-28 21:44:00  846A   \n",
       "55354 2017-10-19 03:30:00   502  SCEL  KMIA   LAN 2017-10-19 03:33:00  502R   \n",
       "61426 2017-11-05 16:30:00   207  SCEL  SCIE   LXP 2017-11-05 18:22:00  207R   \n",
       "\n",
       "      Ori-O Des-O Emp-O  DIA  MES   AÑO     DIANOM TIPOVUELO  \\\n",
       "6068   SCEL  SPJC   56R   19    1  2017     Jueves         I   \n",
       "13906  SCEL  SCIE   SKU   30    3  2017     Jueves         N   \n",
       "13907  SCEL  SCIE   SKU   22    3  2017  Miercoles         N   \n",
       "17055  SCEL  SCIE   LXP   22    3  2017  Miercoles         N   \n",
       "19207  SCEL  SCIE   SKU   25    4  2017     Martes         N   \n",
       "22167  SCEL  SCIE   JMR    6    4  2017     Jueves         N   \n",
       "22301  SCEL  LFPG   AFR   26    5  2017    Viernes         I   \n",
       "22302  SCEL  LFPG   AFR   28    5  2017    Domingo         I   \n",
       "24304  SCEL  SPJC   SKU   11    5  2017     Jueves         I   \n",
       "27246  SCEL  SCAT   LAN   15    5  2017      Lunes         N   \n",
       "27247  SCEL  MMMX   LAN   25    5  2017     Jueves         I   \n",
       "32196  SCEL  SACO   LAN   29    6  2017     Jueves         I   \n",
       "38150  SCEL  SCFA   LXP   10    7  2017      Lunes         N   \n",
       "39225  SCEL  LFPG   PUE    7    8  2017      Lunes         I   \n",
       "44939  SCEL  KIAH   UAL   28    9  2017     Jueves         I   \n",
       "55354  SCEL  KMIA   LAN   19   10  2017     Jueves         I   \n",
       "61426  SCEL  SCIE   LXP    5   11  2017    Domingo         N   \n",
       "\n",
       "                          OPERA  SIGLAORI          SIGLADES  \n",
       "6068       Latin American Wings  Santiago              Lima  \n",
       "13906               Sky Airline  Santiago        Concepcion  \n",
       "13907               Sky Airline  Santiago        Concepcion  \n",
       "17055               Grupo LATAM  Santiago        Concepcion  \n",
       "19207               Sky Airline  Santiago        Concepcion  \n",
       "22167      Latin American Wings  Santiago        Concepcion  \n",
       "22301                Air France  Santiago             Paris  \n",
       "22302                Air France  Santiago             Paris  \n",
       "24304               Sky Airline  Santiago              Lima  \n",
       "27246               Grupo LATAM  Santiago           Copiapo  \n",
       "27247               Grupo LATAM  Santiago  Ciudad de Mexico  \n",
       "32196               Grupo LATAM  Santiago           Cordoba  \n",
       "38150               Grupo LATAM  Santiago       Antofagasta  \n",
       "39225  Plus Ultra Lineas Aereas  Santiago             Paris  \n",
       "44939           United Airlines  Santiago           Houston  \n",
       "55354               Grupo LATAM  Santiago             Miami  \n",
       "61426               Grupo LATAM  Santiago        Concepcion  "
      ]
     },
     "execution_count": 73,
     "metadata": {},
     "output_type": "execute_result"
    }
   ],
   "source": [
    "dataset_scl[pd.to_numeric(dataset_scl['Vlo-O'], errors='coerce').isnull()]"
   ]
  },
  {
   "cell_type": "markdown",
   "metadata": {},
   "source": [
    "Existen algunos valores no númericos en las columnas Vlo-I y Vlo-O, 5 y 18 respectivamente, son muy pocos registros frente a los 68 mil totales, los vamos a ignorar."
   ]
  },
  {
   "cell_type": "code",
   "execution_count": 74,
   "metadata": {},
   "outputs": [
    {
     "data": {
      "text/plain": [
       "(68185, 18)"
      ]
     },
     "execution_count": 74,
     "metadata": {},
     "output_type": "execute_result"
    }
   ],
   "source": [
    "dataset_scl = dataset_scl[~pd.to_numeric(dataset_scl['Vlo-I'], errors='coerce').isnull()]\n",
    "dataset_scl = dataset_scl[~pd.to_numeric(dataset_scl['Vlo-O'], errors='coerce').isnull()]\n",
    "dataset_scl.shape"
   ]
  },
  {
   "cell_type": "code",
   "execution_count": 75,
   "metadata": {},
   "outputs": [
    {
     "data": {
      "text/html": [
       "<div>\n",
       "<style scoped>\n",
       "    .dataframe tbody tr th:only-of-type {\n",
       "        vertical-align: middle;\n",
       "    }\n",
       "\n",
       "    .dataframe tbody tr th {\n",
       "        vertical-align: top;\n",
       "    }\n",
       "\n",
       "    .dataframe thead th {\n",
       "        text-align: right;\n",
       "    }\n",
       "</style>\n",
       "<table border=\"1\" class=\"dataframe\">\n",
       "  <thead>\n",
       "    <tr style=\"text-align: right;\">\n",
       "      <th></th>\n",
       "      <th>Fecha-I</th>\n",
       "      <th>Vlo-I</th>\n",
       "      <th>Ori-I</th>\n",
       "      <th>Des-I</th>\n",
       "      <th>Emp-I</th>\n",
       "      <th>Fecha-O</th>\n",
       "      <th>Vlo-O</th>\n",
       "      <th>Ori-O</th>\n",
       "      <th>Des-O</th>\n",
       "      <th>Emp-O</th>\n",
       "      <th>DIA</th>\n",
       "      <th>MES</th>\n",
       "      <th>AÑO</th>\n",
       "      <th>DIANOM</th>\n",
       "      <th>TIPOVUELO</th>\n",
       "      <th>OPERA</th>\n",
       "      <th>SIGLAORI</th>\n",
       "      <th>SIGLADES</th>\n",
       "    </tr>\n",
       "  </thead>\n",
       "  <tbody>\n",
       "    <tr>\n",
       "      <th>0</th>\n",
       "      <td>2017-01-01 23:30:00</td>\n",
       "      <td>226</td>\n",
       "      <td>SCEL</td>\n",
       "      <td>KMIA</td>\n",
       "      <td>AAL</td>\n",
       "      <td>2017-01-01 23:33:00</td>\n",
       "      <td>226</td>\n",
       "      <td>SCEL</td>\n",
       "      <td>KMIA</td>\n",
       "      <td>AAL</td>\n",
       "      <td>1</td>\n",
       "      <td>1</td>\n",
       "      <td>2017</td>\n",
       "      <td>Domingo</td>\n",
       "      <td>I</td>\n",
       "      <td>American Airlines</td>\n",
       "      <td>Santiago</td>\n",
       "      <td>Miami</td>\n",
       "    </tr>\n",
       "    <tr>\n",
       "      <th>1</th>\n",
       "      <td>2017-01-02 23:30:00</td>\n",
       "      <td>226</td>\n",
       "      <td>SCEL</td>\n",
       "      <td>KMIA</td>\n",
       "      <td>AAL</td>\n",
       "      <td>2017-01-02 23:39:00</td>\n",
       "      <td>226</td>\n",
       "      <td>SCEL</td>\n",
       "      <td>KMIA</td>\n",
       "      <td>AAL</td>\n",
       "      <td>2</td>\n",
       "      <td>1</td>\n",
       "      <td>2017</td>\n",
       "      <td>Lunes</td>\n",
       "      <td>I</td>\n",
       "      <td>American Airlines</td>\n",
       "      <td>Santiago</td>\n",
       "      <td>Miami</td>\n",
       "    </tr>\n",
       "  </tbody>\n",
       "</table>\n",
       "</div>"
      ],
      "text/plain": [
       "              Fecha-I Vlo-I Ori-I Des-I Emp-I             Fecha-O Vlo-O Ori-O  \\\n",
       "0 2017-01-01 23:30:00   226  SCEL  KMIA   AAL 2017-01-01 23:33:00   226  SCEL   \n",
       "1 2017-01-02 23:30:00   226  SCEL  KMIA   AAL 2017-01-02 23:39:00   226  SCEL   \n",
       "\n",
       "  Des-O Emp-O  DIA  MES   AÑO   DIANOM TIPOVUELO              OPERA  SIGLAORI  \\\n",
       "0  KMIA   AAL    1    1  2017  Domingo         I  American Airlines  Santiago   \n",
       "1  KMIA   AAL    2    1  2017    Lunes         I  American Airlines  Santiago   \n",
       "\n",
       "  SIGLADES  \n",
       "0    Miami  \n",
       "1    Miami  "
      ]
     },
     "execution_count": 75,
     "metadata": {},
     "output_type": "execute_result"
    }
   ],
   "source": [
    "dataset_scl.head(2)"
   ]
  },
  {
   "cell_type": "code",
   "execution_count": 76,
   "metadata": {},
   "outputs": [
    {
     "data": {
      "text/html": [
       "<div>\n",
       "<style scoped>\n",
       "    .dataframe tbody tr th:only-of-type {\n",
       "        vertical-align: middle;\n",
       "    }\n",
       "\n",
       "    .dataframe tbody tr th {\n",
       "        vertical-align: top;\n",
       "    }\n",
       "\n",
       "    .dataframe thead th {\n",
       "        text-align: right;\n",
       "    }\n",
       "</style>\n",
       "<table border=\"1\" class=\"dataframe\">\n",
       "  <thead>\n",
       "    <tr style=\"text-align: right;\">\n",
       "      <th></th>\n",
       "      <th>Fecha-I</th>\n",
       "      <th>Vlo-I</th>\n",
       "      <th>Ori-I</th>\n",
       "      <th>Des-I</th>\n",
       "      <th>Emp-I</th>\n",
       "      <th>Fecha-O</th>\n",
       "      <th>Vlo-O</th>\n",
       "      <th>Ori-O</th>\n",
       "      <th>Des-O</th>\n",
       "      <th>Emp-O</th>\n",
       "      <th>DIA</th>\n",
       "      <th>MES</th>\n",
       "      <th>AÑO</th>\n",
       "      <th>DIANOM</th>\n",
       "      <th>TIPOVUELO</th>\n",
       "      <th>OPERA</th>\n",
       "      <th>SIGLAORI</th>\n",
       "      <th>SIGLADES</th>\n",
       "    </tr>\n",
       "  </thead>\n",
       "  <tbody>\n",
       "  </tbody>\n",
       "</table>\n",
       "</div>"
      ],
      "text/plain": [
       "Empty DataFrame\n",
       "Columns: [Fecha-I, Vlo-I, Ori-I, Des-I, Emp-I, Fecha-O, Vlo-O, Ori-O, Des-O, Emp-O, DIA, MES, AÑO, DIANOM, TIPOVUELO, OPERA, SIGLAORI, SIGLADES]\n",
       "Index: []"
      ]
     },
     "execution_count": 76,
     "metadata": {},
     "output_type": "execute_result"
    }
   ],
   "source": [
    "dataset_scl[pd.to_numeric(dataset_scl['DIA'], errors='coerce').isnull()]"
   ]
  },
  {
   "cell_type": "code",
   "execution_count": 77,
   "metadata": {},
   "outputs": [
    {
     "data": {
      "text/html": [
       "<div>\n",
       "<style scoped>\n",
       "    .dataframe tbody tr th:only-of-type {\n",
       "        vertical-align: middle;\n",
       "    }\n",
       "\n",
       "    .dataframe tbody tr th {\n",
       "        vertical-align: top;\n",
       "    }\n",
       "\n",
       "    .dataframe thead th {\n",
       "        text-align: right;\n",
       "    }\n",
       "</style>\n",
       "<table border=\"1\" class=\"dataframe\">\n",
       "  <thead>\n",
       "    <tr style=\"text-align: right;\">\n",
       "      <th></th>\n",
       "      <th>Fecha-I</th>\n",
       "      <th>Vlo-I</th>\n",
       "      <th>Ori-I</th>\n",
       "      <th>Des-I</th>\n",
       "      <th>Emp-I</th>\n",
       "      <th>Fecha-O</th>\n",
       "      <th>Vlo-O</th>\n",
       "      <th>Ori-O</th>\n",
       "      <th>Des-O</th>\n",
       "      <th>Emp-O</th>\n",
       "      <th>DIA</th>\n",
       "      <th>MES</th>\n",
       "      <th>AÑO</th>\n",
       "      <th>DIANOM</th>\n",
       "      <th>TIPOVUELO</th>\n",
       "      <th>OPERA</th>\n",
       "      <th>SIGLAORI</th>\n",
       "      <th>SIGLADES</th>\n",
       "    </tr>\n",
       "  </thead>\n",
       "  <tbody>\n",
       "  </tbody>\n",
       "</table>\n",
       "</div>"
      ],
      "text/plain": [
       "Empty DataFrame\n",
       "Columns: [Fecha-I, Vlo-I, Ori-I, Des-I, Emp-I, Fecha-O, Vlo-O, Ori-O, Des-O, Emp-O, DIA, MES, AÑO, DIANOM, TIPOVUELO, OPERA, SIGLAORI, SIGLADES]\n",
       "Index: []"
      ]
     },
     "execution_count": 77,
     "metadata": {},
     "output_type": "execute_result"
    }
   ],
   "source": [
    "dataset_scl[pd.to_numeric(dataset_scl['MES'], errors='coerce').isnull()]"
   ]
  },
  {
   "cell_type": "code",
   "execution_count": 78,
   "metadata": {},
   "outputs": [
    {
     "data": {
      "text/html": [
       "<div>\n",
       "<style scoped>\n",
       "    .dataframe tbody tr th:only-of-type {\n",
       "        vertical-align: middle;\n",
       "    }\n",
       "\n",
       "    .dataframe tbody tr th {\n",
       "        vertical-align: top;\n",
       "    }\n",
       "\n",
       "    .dataframe thead th {\n",
       "        text-align: right;\n",
       "    }\n",
       "</style>\n",
       "<table border=\"1\" class=\"dataframe\">\n",
       "  <thead>\n",
       "    <tr style=\"text-align: right;\">\n",
       "      <th></th>\n",
       "      <th>Fecha-I</th>\n",
       "      <th>Vlo-I</th>\n",
       "      <th>Ori-I</th>\n",
       "      <th>Des-I</th>\n",
       "      <th>Emp-I</th>\n",
       "      <th>Fecha-O</th>\n",
       "      <th>Vlo-O</th>\n",
       "      <th>Ori-O</th>\n",
       "      <th>Des-O</th>\n",
       "      <th>Emp-O</th>\n",
       "      <th>DIA</th>\n",
       "      <th>MES</th>\n",
       "      <th>AÑO</th>\n",
       "      <th>DIANOM</th>\n",
       "      <th>TIPOVUELO</th>\n",
       "      <th>OPERA</th>\n",
       "      <th>SIGLAORI</th>\n",
       "      <th>SIGLADES</th>\n",
       "    </tr>\n",
       "  </thead>\n",
       "  <tbody>\n",
       "  </tbody>\n",
       "</table>\n",
       "</div>"
      ],
      "text/plain": [
       "Empty DataFrame\n",
       "Columns: [Fecha-I, Vlo-I, Ori-I, Des-I, Emp-I, Fecha-O, Vlo-O, Ori-O, Des-O, Emp-O, DIA, MES, AÑO, DIANOM, TIPOVUELO, OPERA, SIGLAORI, SIGLADES]\n",
       "Index: []"
      ]
     },
     "execution_count": 78,
     "metadata": {},
     "output_type": "execute_result"
    }
   ],
   "source": [
    "dataset_scl[pd.to_numeric(dataset_scl['AÑO'], errors='coerce').isnull()]"
   ]
  },
  {
   "cell_type": "markdown",
   "metadata": {},
   "source": [
    "No existen errores en las columnas DIA, MES y AÑO"
   ]
  },
  {
   "cell_type": "markdown",
   "metadata": {},
   "source": [
    "## Analizar valores de columnas"
   ]
  },
  {
   "cell_type": "code",
   "execution_count": 79,
   "metadata": {},
   "outputs": [
    {
     "name": "stdout",
     "output_type": "stream",
     "text": [
      "2017-01-01 00:15:00 2017-12-31 23:55:00\n",
      "2017-01-01 00:04:00 2018-01-01 00:12:00\n"
     ]
    }
   ],
   "source": [
    "# Fecha-I & Fecha-O\n",
    "print(dataset_scl['Fecha-I'].min(), dataset_scl['Fecha-I'].max())\n",
    "print(dataset_scl['Fecha-O'].min(), dataset_scl['Fecha-O'].max())"
   ]
  },
  {
   "cell_type": "markdown",
   "metadata": {},
   "source": [
    "Tenemos datos de todo el año 2017. Existen meses o días con mayor frecuencia de vuelos?"
   ]
  },
  {
   "cell_type": "code",
   "execution_count": 80,
   "metadata": {},
   "outputs": [
    {
     "data": {
      "text/plain": [
       "<AxesSubplot: >"
      ]
     },
     "execution_count": 80,
     "metadata": {},
     "output_type": "execute_result"
    },
    {
     "data": {
      "image/png": "[encoded data removed]",
      "text/plain": [
       "<Figure size 640x480 with 1 Axes>"
      ]
     },
     "metadata": {},
     "output_type": "display_data"
    }
   ],
   "source": [
    "dataset_scl.MES.value_counts().sort_index().plot(kind = 'bar')"
   ]
  },
  {
   "cell_type": "markdown",
   "metadata": {},
   "source": [
    "Existe una mayor frecuencia de vuelos en los meses de vacaciones (Diciembre y Enero). Y también en Julio (vacaciones de invierno)"
   ]
  },
  {
   "cell_type": "code",
   "execution_count": 81,
   "metadata": {},
   "outputs": [
    {
     "data": {
      "text/plain": [
       "<AxesSubplot: >"
      ]
     },
     "execution_count": 81,
     "metadata": {},
     "output_type": "execute_result"
    },
    {
     "data": {
      "image/png": "[encoded data removed]",
      "text/plain": [
       "<Figure size 640x480 with 1 Axes>"
      ]
     },
     "metadata": {},
     "output_type": "display_data"
    }
   ],
   "source": [
    "dataset_scl.DIA.value_counts().sort_index().plot(kind = 'bar')"
   ]
  },
  {
   "cell_type": "markdown",
   "metadata": {},
   "source": [
    "Al parecer no hay alguna preferencia en cuanto a los días. Existe una baja en los últimos días del mes, pero se explica por la cantidad de días que tiene cada mes.\n",
    "\n",
    "Existen más vuelos nacionales o internacionales?"
   ]
  },
  {
   "cell_type": "code",
   "execution_count": 82,
   "metadata": {},
   "outputs": [
    {
     "data": {
      "text/plain": [
       "N    0.542011\n",
       "I    0.457989\n",
       "Name: TIPOVUELO, dtype: float64"
      ]
     },
     "execution_count": 82,
     "metadata": {},
     "output_type": "execute_result"
    }
   ],
   "source": [
    "dataset_scl.TIPOVUELO.value_counts(normalize=True)"
   ]
  },
  {
   "cell_type": "markdown",
   "metadata": {},
   "source": [
    "El 45.8% de los vuelos son dentro del país.\n",
    "\n",
    "Cual es la distribución de los operadores?"
   ]
  },
  {
   "cell_type": "code",
   "execution_count": 83,
   "metadata": {},
   "outputs": [
    {
     "data": {
      "text/plain": [
       "Grupo LATAM              0.599619\n",
       "Sky Airline              0.209621\n",
       "Aerolineas Argentinas    0.028584\n",
       "Copa Air                 0.027132\n",
       "Latin American Wings     0.024522\n",
       "Name: OPERA, dtype: float64"
      ]
     },
     "execution_count": 83,
     "metadata": {},
     "output_type": "execute_result"
    }
   ],
   "source": [
    "dataset_scl.OPERA.value_counts(normalize=True).head(5)"
   ]
  },
  {
   "cell_type": "markdown",
   "metadata": {},
   "source": [
    "LATAM (60%) y Sky (21%) acumulan más del 80% de los vuelos.\n",
    "\n",
    "Cual es el top 5 ciudades origen y destino?"
   ]
  },
  {
   "cell_type": "code",
   "execution_count": 60,
   "metadata": {},
   "outputs": [
    {
     "data": {
      "text/plain": [
       "Santiago    1.0\n",
       "Name: SIGLAORI, dtype: float64"
      ]
     },
     "execution_count": 60,
     "metadata": {},
     "output_type": "execute_result"
    }
   ],
   "source": [
    "dataset_scl.SIGLAORI.value_counts(normalize=True).head(5)"
   ]
  },
  {
   "cell_type": "code",
   "execution_count": 62,
   "metadata": {},
   "outputs": [
    {
     "data": {
      "text/plain": [
       "SCEL    1.0\n",
       "Name: Ori-I, dtype: float64"
      ]
     },
     "execution_count": 62,
     "metadata": {},
     "output_type": "execute_result"
    }
   ],
   "source": [
    "dataset_scl['Ori-I'].value_counts(normalize=True).head(5)"
   ]
  },
  {
   "cell_type": "markdown",
   "metadata": {},
   "source": [
    "**Solo hay registros de vuelos desde Santiago**"
   ]
  },
  {
   "cell_type": "code",
   "execution_count": 61,
   "metadata": {},
   "outputs": [
    {
     "data": {
      "text/plain": [
       "Buenos Aires    0.092909\n",
       "Antofagasta     0.084843\n",
       "Lima            0.077260\n",
       "Calama          0.075471\n",
       "Puerto Montt    0.063900\n",
       "Name: SIGLADES, dtype: float64"
      ]
     },
     "execution_count": 61,
     "metadata": {},
     "output_type": "execute_result"
    }
   ],
   "source": [
    "dataset_scl.SIGLADES.value_counts(normalize=True).head(5)"
   ]
  },
  {
   "cell_type": "markdown",
   "metadata": {},
   "source": [
    "Los destinos más comunes son: **Buenos Aires, Antofagasta, Lima, Calama y Puerto Montt**"
   ]
  }
 ],
 "metadata": {
  "kernelspec": {
   "display_name": "Python 3.11.0 ('premier-test')",
   "language": "python",
   "name": "python3"
  },
  "language_info": {
   "codemirror_mode": {
    "name": "ipython",
    "version": 3
   },
   "file_extension": ".py",
   "mimetype": "text/x-python",
   "name": "python",
   "nbconvert_exporter": "python",
   "pygments_lexer": "ipython3",
   "version": "3.11.0"
  },
  "orig_nbformat": 4,
  "vscode": {
   "interpreter": {
    "hash": "7872735e353004fc53505fa026cec2d6e4ec5ba157960d15594f4aff1692a9f1"
   }
  }
 },
 "nbformat": 4,
 "nbformat_minor": 2
}
