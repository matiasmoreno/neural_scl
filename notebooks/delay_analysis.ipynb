{
 "cells": [
  {
   "cell_type": "markdown",
   "metadata": {},
   "source": [
    "# Análisis del retraso de vuelos según los datos conocidos"
   ]
  },
  {
   "cell_type": "markdown",
   "metadata": {},
   "source": [
    "¿Cómo se compone la tasa de atraso por destino, aerolínea, mes del año, día de la semana,\n",
    "temporada, tipo de vuelo?\n",
    "\n",
    "¿Qué variables esperarías que más influyeran en predecir atrasos?"
   ]
  },
  {
   "cell_type": "markdown",
   "metadata": {},
   "source": [
    "**A priori**: Espero que las variables que más influyen en los atrasos son:\n",
    "- **Cantidad de vuelos por día**: Si existen muchos vuelos un mismo día puede que se atrasen los pasajeros y aviones.\n",
    "- **Tipo de vuelo**: Creo que si es un vuelo internacional, es probable una escala en santiago, o una mayor complejidad en la carga de combustible, generando un atraso.\n",
    "- **Temporada alta**: similar a la cantidad de vuelos por día, en temporada alta puede que la gestión de los vuelos y el soporte sea más complejo.\n",
    "- **Aerolinea**: Creo que aerolineas que tiene menos experiencia y frecuencia en el aeropuerto SCL tengan más problemas con los atrasasos (Aerolinea extranjeras, pequeñas).\n",
    "- **Hora del día**: Hay una relación entre la hora del día y la frecuencia de vuelos, 6 a 8 es la hora más frecuente"
   ]
  },
  {
   "cell_type": "code",
   "execution_count": 110,
   "metadata": {},
   "outputs": [],
   "source": [
    "import pandas as pd"
   ]
  },
  {
   "cell_type": "code",
   "execution_count": 111,
   "metadata": {},
   "outputs": [],
   "source": [
    "features_scl = pd.read_csv('../clean_data/synthetic_features.csv', parse_dates=['Fecha-I', 'Fecha-O'])"
   ]
  },
  {
   "cell_type": "code",
   "execution_count": 112,
   "metadata": {},
   "outputs": [
    {
     "data": {
      "text/html": [
       "<div>\n",
       "<style scoped>\n",
       "    .dataframe tbody tr th:only-of-type {\n",
       "        vertical-align: middle;\n",
       "    }\n",
       "\n",
       "    .dataframe tbody tr th {\n",
       "        vertical-align: top;\n",
       "    }\n",
       "\n",
       "    .dataframe thead th {\n",
       "        text-align: right;\n",
       "    }\n",
       "</style>\n",
       "<table border=\"1\" class=\"dataframe\">\n",
       "  <thead>\n",
       "    <tr style=\"text-align: right;\">\n",
       "      <th></th>\n",
       "      <th>Fecha-I</th>\n",
       "      <th>Vlo-I</th>\n",
       "      <th>Ori-I</th>\n",
       "      <th>Des-I</th>\n",
       "      <th>Emp-I</th>\n",
       "      <th>Fecha-O</th>\n",
       "      <th>Vlo-O</th>\n",
       "      <th>Ori-O</th>\n",
       "      <th>Des-O</th>\n",
       "      <th>Emp-O</th>\n",
       "      <th>...</th>\n",
       "      <th>dif_min</th>\n",
       "      <th>atraso_15</th>\n",
       "      <th>periodo_dia</th>\n",
       "      <th>hora</th>\n",
       "      <th>v_last_12</th>\n",
       "      <th>v_next_12</th>\n",
       "      <th>v_last_6</th>\n",
       "      <th>v_next_6</th>\n",
       "      <th>v_last_3</th>\n",
       "      <th>v_next_3</th>\n",
       "    </tr>\n",
       "  </thead>\n",
       "  <tbody>\n",
       "    <tr>\n",
       "      <th>0</th>\n",
       "      <td>2017-01-01 23:30:00</td>\n",
       "      <td>226</td>\n",
       "      <td>SCEL</td>\n",
       "      <td>KMIA</td>\n",
       "      <td>AAL</td>\n",
       "      <td>2017-01-01 23:33:00</td>\n",
       "      <td>226.0</td>\n",
       "      <td>SCEL</td>\n",
       "      <td>KMIA</td>\n",
       "      <td>AAL</td>\n",
       "      <td>...</td>\n",
       "      <td>3.0</td>\n",
       "      <td>0</td>\n",
       "      <td>noche</td>\n",
       "      <td>23</td>\n",
       "      <td>106</td>\n",
       "      <td>89</td>\n",
       "      <td>46</td>\n",
       "      <td>25</td>\n",
       "      <td>18</td>\n",
       "      <td>15</td>\n",
       "    </tr>\n",
       "    <tr>\n",
       "      <th>1</th>\n",
       "      <td>2017-01-02 23:30:00</td>\n",
       "      <td>226</td>\n",
       "      <td>SCEL</td>\n",
       "      <td>KMIA</td>\n",
       "      <td>AAL</td>\n",
       "      <td>2017-01-02 23:39:00</td>\n",
       "      <td>226.0</td>\n",
       "      <td>SCEL</td>\n",
       "      <td>KMIA</td>\n",
       "      <td>AAL</td>\n",
       "      <td>...</td>\n",
       "      <td>9.0</td>\n",
       "      <td>0</td>\n",
       "      <td>noche</td>\n",
       "      <td>23</td>\n",
       "      <td>110</td>\n",
       "      <td>85</td>\n",
       "      <td>51</td>\n",
       "      <td>21</td>\n",
       "      <td>20</td>\n",
       "      <td>12</td>\n",
       "    </tr>\n",
       "  </tbody>\n",
       "</table>\n",
       "<p>2 rows × 29 columns</p>\n",
       "</div>"
      ],
      "text/plain": [
       "              Fecha-I  Vlo-I Ori-I Des-I Emp-I             Fecha-O  Vlo-O  \\\n",
       "0 2017-01-01 23:30:00    226  SCEL  KMIA   AAL 2017-01-01 23:33:00  226.0   \n",
       "1 2017-01-02 23:30:00    226  SCEL  KMIA   AAL 2017-01-02 23:39:00  226.0   \n",
       "\n",
       "  Ori-O Des-O Emp-O  ...  dif_min  atraso_15  periodo_dia hora v_last_12  \\\n",
       "0  SCEL  KMIA   AAL  ...      3.0          0        noche   23       106   \n",
       "1  SCEL  KMIA   AAL  ...      9.0          0        noche   23       110   \n",
       "\n",
       "  v_next_12 v_last_6 v_next_6  v_last_3  v_next_3  \n",
       "0        89       46       25        18        15  \n",
       "1        85       51       21        20        12  \n",
       "\n",
       "[2 rows x 29 columns]"
      ]
     },
     "execution_count": 112,
     "metadata": {},
     "output_type": "execute_result"
    }
   ],
   "source": [
    "# Atraso por TIPOVUELO\n",
    "features_scl.head(2)"
   ]
  },
  {
   "cell_type": "code",
   "execution_count": 113,
   "metadata": {},
   "outputs": [
    {
     "data": {
      "text/plain": [
       "0    0.81515\n",
       "1    0.18485\n",
       "Name: atraso_15, dtype: float64"
      ]
     },
     "execution_count": 113,
     "metadata": {},
     "output_type": "execute_result"
    }
   ],
   "source": [
    "features_scl['atraso_15'].value_counts(normalize=True)"
   ]
  },
  {
   "cell_type": "markdown",
   "metadata": {},
   "source": [
    "### El 18.4% de vuelos tiene un atraso de más de 15 minutos\n",
    "\n",
    "Veamos la correlación entre las distintas variables que conocemos"
   ]
  },
  {
   "cell_type": "markdown",
   "metadata": {},
   "source": [
    "### Atraso según destino nacional vs internacional"
   ]
  },
  {
   "cell_type": "code",
   "execution_count": 114,
   "metadata": {},
   "outputs": [
    {
     "name": "stdout",
     "output_type": "stream",
     "text": [
      "Tasa de atraso Internacional: 22.6\n",
      "Tasa de atraso Nacional: 15.0\n"
     ]
    }
   ],
   "source": [
    "atraso_internacional = round(features_scl.query(\"TIPOVUELO == 'I'\")['atraso_15'].value_counts(normalize=True)[1] * 100, 1)\n",
    "atraso_nacional = round(features_scl.query(\"TIPOVUELO == 'N'\")['atraso_15'].value_counts(normalize=True)[1] * 100, 1)\n",
    "print(f\"Tasa de atraso Internacional: {atraso_internacional}\")\n",
    "print(f\"Tasa de atraso Nacional: {atraso_nacional}\")"
   ]
  },
  {
   "cell_type": "markdown",
   "metadata": {},
   "source": [
    "Se observa que el tipo de vuelo si tiene una relación con los atrasos, los vuelos internacionales tienden a atrasarse."
   ]
  },
  {
   "cell_type": "code",
   "execution_count": 115,
   "metadata": {},
   "outputs": [
    {
     "name": "stdout",
     "output_type": "stream",
     "text": [
      "Tasa de atraso temporada alta: 19.6\n",
      "Tasa de atraso temporada baja: 17.9\n"
     ]
    }
   ],
   "source": [
    "atraso_alta = round(features_scl.query(\"temporada_alta == 1\")['atraso_15'].value_counts(normalize=True)[1] * 100, 1)\n",
    "atraso_baja = round(features_scl.query(\"temporada_alta == 0\")['atraso_15'].value_counts(normalize=True)[1] * 100, 1)\n",
    "print(f\"Tasa de atraso temporada alta: {atraso_alta}\")\n",
    "print(f\"Tasa de atraso temporada baja: {atraso_baja}\")"
   ]
  },
  {
   "cell_type": "markdown",
   "metadata": {},
   "source": [
    "Se observa que la temporada tiene una relación con los atrasos, los vuelos en temporada alta tienden a atrasarse.\n",
    "\n",
    "Pero esto puede tener relación con otros fenomenos, en temporada alta se programan más vuelos por día, y puede que la variable que mejor se correlaciona la probabilidad de atraso sea la cantidad de vuelos diarios."
   ]
  },
  {
   "cell_type": "code",
   "execution_count": 116,
   "metadata": {},
   "outputs": [
    {
     "data": {
      "text/html": [
       "<div>\n",
       "<style scoped>\n",
       "    .dataframe tbody tr th:only-of-type {\n",
       "        vertical-align: middle;\n",
       "    }\n",
       "\n",
       "    .dataframe tbody tr th {\n",
       "        vertical-align: top;\n",
       "    }\n",
       "\n",
       "    .dataframe thead th {\n",
       "        text-align: right;\n",
       "    }\n",
       "</style>\n",
       "<table border=\"1\" class=\"dataframe\">\n",
       "  <thead>\n",
       "    <tr style=\"text-align: right;\">\n",
       "      <th></th>\n",
       "      <th></th>\n",
       "      <th>Fecha-I</th>\n",
       "    </tr>\n",
       "    <tr>\n",
       "      <th>OPERA</th>\n",
       "      <th>atraso_15</th>\n",
       "      <th></th>\n",
       "    </tr>\n",
       "  </thead>\n",
       "  <tbody>\n",
       "    <tr>\n",
       "      <th rowspan=\"2\" valign=\"top\">Aerolineas Argentinas</th>\n",
       "      <th>0</th>\n",
       "      <td>75.987686</td>\n",
       "    </tr>\n",
       "    <tr>\n",
       "      <th>1</th>\n",
       "      <td>24.012314</td>\n",
       "    </tr>\n",
       "    <tr>\n",
       "      <th rowspan=\"2\" valign=\"top\">Aeromexico</th>\n",
       "      <th>0</th>\n",
       "      <td>97.150997</td>\n",
       "    </tr>\n",
       "    <tr>\n",
       "      <th>1</th>\n",
       "      <td>2.849003</td>\n",
       "    </tr>\n",
       "    <tr>\n",
       "      <th rowspan=\"2\" valign=\"top\">Air Canada</th>\n",
       "      <th>0</th>\n",
       "      <td>54.336283</td>\n",
       "    </tr>\n",
       "    <tr>\n",
       "      <th>1</th>\n",
       "      <td>45.663717</td>\n",
       "    </tr>\n",
       "    <tr>\n",
       "      <th rowspan=\"2\" valign=\"top\">Air France</th>\n",
       "      <th>0</th>\n",
       "      <td>91.853933</td>\n",
       "    </tr>\n",
       "    <tr>\n",
       "      <th>1</th>\n",
       "      <td>8.146067</td>\n",
       "    </tr>\n",
       "    <tr>\n",
       "      <th rowspan=\"2\" valign=\"top\">Alitalia</th>\n",
       "      <th>0</th>\n",
       "      <td>88.803089</td>\n",
       "    </tr>\n",
       "    <tr>\n",
       "      <th>1</th>\n",
       "      <td>11.196911</td>\n",
       "    </tr>\n",
       "    <tr>\n",
       "      <th rowspan=\"2\" valign=\"top\">American Airlines</th>\n",
       "      <th>0</th>\n",
       "      <td>93.377483</td>\n",
       "    </tr>\n",
       "    <tr>\n",
       "      <th>1</th>\n",
       "      <td>6.622517</td>\n",
       "    </tr>\n",
       "    <tr>\n",
       "      <th rowspan=\"2\" valign=\"top\">Austral</th>\n",
       "      <th>0</th>\n",
       "      <td>79.729730</td>\n",
       "    </tr>\n",
       "    <tr>\n",
       "      <th>1</th>\n",
       "      <td>20.270270</td>\n",
       "    </tr>\n",
       "    <tr>\n",
       "      <th rowspan=\"2\" valign=\"top\">Avianca</th>\n",
       "      <th>0</th>\n",
       "      <td>73.437500</td>\n",
       "    </tr>\n",
       "    <tr>\n",
       "      <th>1</th>\n",
       "      <td>26.562500</td>\n",
       "    </tr>\n",
       "    <tr>\n",
       "      <th rowspan=\"2\" valign=\"top\">British Airways</th>\n",
       "      <th>0</th>\n",
       "      <td>85.853659</td>\n",
       "    </tr>\n",
       "    <tr>\n",
       "      <th>1</th>\n",
       "      <td>14.146341</td>\n",
       "    </tr>\n",
       "    <tr>\n",
       "      <th rowspan=\"2\" valign=\"top\">Copa Air</th>\n",
       "      <th>0</th>\n",
       "      <td>93.729730</td>\n",
       "    </tr>\n",
       "    <tr>\n",
       "      <th>1</th>\n",
       "      <td>6.270270</td>\n",
       "    </tr>\n",
       "    <tr>\n",
       "      <th rowspan=\"2\" valign=\"top\">Delta Air</th>\n",
       "      <th>0</th>\n",
       "      <td>94.134078</td>\n",
       "    </tr>\n",
       "    <tr>\n",
       "      <th>1</th>\n",
       "      <td>5.865922</td>\n",
       "    </tr>\n",
       "    <tr>\n",
       "      <th rowspan=\"2\" valign=\"top\">Gol Trans</th>\n",
       "      <th>0</th>\n",
       "      <td>64.392060</td>\n",
       "    </tr>\n",
       "    <tr>\n",
       "      <th>1</th>\n",
       "      <td>35.607940</td>\n",
       "    </tr>\n",
       "    <tr>\n",
       "      <th rowspan=\"2\" valign=\"top\">Grupo LATAM</th>\n",
       "      <th>0</th>\n",
       "      <td>82.137703</td>\n",
       "    </tr>\n",
       "    <tr>\n",
       "      <th>1</th>\n",
       "      <td>17.862297</td>\n",
       "    </tr>\n",
       "    <tr>\n",
       "      <th rowspan=\"2\" valign=\"top\">Iberia</th>\n",
       "      <th>0</th>\n",
       "      <td>90.055249</td>\n",
       "    </tr>\n",
       "    <tr>\n",
       "      <th>1</th>\n",
       "      <td>9.944751</td>\n",
       "    </tr>\n",
       "    <tr>\n",
       "      <th rowspan=\"2\" valign=\"top\">JetSmart SPA</th>\n",
       "      <th>0</th>\n",
       "      <td>82.100457</td>\n",
       "    </tr>\n",
       "    <tr>\n",
       "      <th>1</th>\n",
       "      <td>17.899543</td>\n",
       "    </tr>\n",
       "    <tr>\n",
       "      <th rowspan=\"2\" valign=\"top\">K.L.M.</th>\n",
       "      <th>0</th>\n",
       "      <td>91.633466</td>\n",
       "    </tr>\n",
       "    <tr>\n",
       "      <th>1</th>\n",
       "      <td>8.366534</td>\n",
       "    </tr>\n",
       "    <tr>\n",
       "      <th rowspan=\"2\" valign=\"top\">Lacsa</th>\n",
       "      <th>0</th>\n",
       "      <td>88.043478</td>\n",
       "    </tr>\n",
       "    <tr>\n",
       "      <th>1</th>\n",
       "      <td>11.956522</td>\n",
       "    </tr>\n",
       "    <tr>\n",
       "      <th rowspan=\"2\" valign=\"top\">Latin American Wings</th>\n",
       "      <th>0</th>\n",
       "      <td>59.270335</td>\n",
       "    </tr>\n",
       "    <tr>\n",
       "      <th>1</th>\n",
       "      <td>40.729665</td>\n",
       "    </tr>\n",
       "    <tr>\n",
       "      <th rowspan=\"2\" valign=\"top\">Oceanair Linhas Aereas</th>\n",
       "      <th>0</th>\n",
       "      <td>84.587814</td>\n",
       "    </tr>\n",
       "    <tr>\n",
       "      <th>1</th>\n",
       "      <td>15.412186</td>\n",
       "    </tr>\n",
       "    <tr>\n",
       "      <th rowspan=\"2\" valign=\"top\">Plus Ultra Lineas Aereas</th>\n",
       "      <th>0</th>\n",
       "      <td>39.583333</td>\n",
       "    </tr>\n",
       "    <tr>\n",
       "      <th>1</th>\n",
       "      <td>60.416667</td>\n",
       "    </tr>\n",
       "    <tr>\n",
       "      <th rowspan=\"2\" valign=\"top\">Qantas Airways</th>\n",
       "      <th>0</th>\n",
       "      <td>42.051282</td>\n",
       "    </tr>\n",
       "    <tr>\n",
       "      <th>1</th>\n",
       "      <td>57.948718</td>\n",
       "    </tr>\n",
       "    <tr>\n",
       "      <th rowspan=\"2\" valign=\"top\">Sky Airline</th>\n",
       "      <th>0</th>\n",
       "      <td>82.257049</td>\n",
       "    </tr>\n",
       "    <tr>\n",
       "      <th>1</th>\n",
       "      <td>17.742951</td>\n",
       "    </tr>\n",
       "    <tr>\n",
       "      <th rowspan=\"2\" valign=\"top\">United Airlines</th>\n",
       "      <th>0</th>\n",
       "      <td>94.894895</td>\n",
       "    </tr>\n",
       "    <tr>\n",
       "      <th>1</th>\n",
       "      <td>5.105105</td>\n",
       "    </tr>\n",
       "  </tbody>\n",
       "</table>\n",
       "</div>"
      ],
      "text/plain": [
       "                                      Fecha-I\n",
       "OPERA                    atraso_15           \n",
       "Aerolineas Argentinas    0          75.987686\n",
       "                         1          24.012314\n",
       "Aeromexico               0          97.150997\n",
       "                         1           2.849003\n",
       "Air Canada               0          54.336283\n",
       "                         1          45.663717\n",
       "Air France               0          91.853933\n",
       "                         1           8.146067\n",
       "Alitalia                 0          88.803089\n",
       "                         1          11.196911\n",
       "American Airlines        0          93.377483\n",
       "                         1           6.622517\n",
       "Austral                  0          79.729730\n",
       "                         1          20.270270\n",
       "Avianca                  0          73.437500\n",
       "                         1          26.562500\n",
       "British Airways          0          85.853659\n",
       "                         1          14.146341\n",
       "Copa Air                 0          93.729730\n",
       "                         1           6.270270\n",
       "Delta Air                0          94.134078\n",
       "                         1           5.865922\n",
       "Gol Trans                0          64.392060\n",
       "                         1          35.607940\n",
       "Grupo LATAM              0          82.137703\n",
       "                         1          17.862297\n",
       "Iberia                   0          90.055249\n",
       "                         1           9.944751\n",
       "JetSmart SPA             0          82.100457\n",
       "                         1          17.899543\n",
       "K.L.M.                   0          91.633466\n",
       "                         1           8.366534\n",
       "Lacsa                    0          88.043478\n",
       "                         1          11.956522\n",
       "Latin American Wings     0          59.270335\n",
       "                         1          40.729665\n",
       "Oceanair Linhas Aereas   0          84.587814\n",
       "                         1          15.412186\n",
       "Plus Ultra Lineas Aereas 0          39.583333\n",
       "                         1          60.416667\n",
       "Qantas Airways           0          42.051282\n",
       "                         1          57.948718\n",
       "Sky Airline              0          82.257049\n",
       "                         1          17.742951\n",
       "United Airlines          0          94.894895\n",
       "                         1           5.105105"
      ]
     },
     "execution_count": 116,
     "metadata": {},
     "output_type": "execute_result"
    }
   ],
   "source": [
    "(\n",
    "    features_scl.loc[:,['OPERA', 'atraso_15','Fecha-I']].groupby(by=['OPERA', 'atraso_15']).count()*100 /\n",
    "    features_scl.loc[:,['OPERA', 'Fecha-I']].groupby(by=['OPERA']).count()\n",
    ")"
   ]
  },
  {
   "cell_type": "markdown",
   "metadata": {},
   "source": [
    "Se observa que hay areolineas que tienen un alto porcentaje de atrasos en vuelos, como Latin American Wings y Air Canada. Mientras que otros operadores tienen un bajo porcentaje de vuelos y United Airlines "
   ]
  },
  {
   "cell_type": "markdown",
   "metadata": {},
   "source": [
    "### Atraso según fechas"
   ]
  },
  {
   "cell_type": "code",
   "execution_count": 117,
   "metadata": {},
   "outputs": [
    {
     "data": {
      "text/html": [
       "<div>\n",
       "<style scoped>\n",
       "    .dataframe tbody tr th:only-of-type {\n",
       "        vertical-align: middle;\n",
       "    }\n",
       "\n",
       "    .dataframe tbody tr th {\n",
       "        vertical-align: top;\n",
       "    }\n",
       "\n",
       "    .dataframe thead th {\n",
       "        text-align: right;\n",
       "    }\n",
       "</style>\n",
       "<table border=\"1\" class=\"dataframe\">\n",
       "  <thead>\n",
       "    <tr style=\"text-align: right;\">\n",
       "      <th></th>\n",
       "      <th></th>\n",
       "      <th>Fecha-I</th>\n",
       "    </tr>\n",
       "    <tr>\n",
       "      <th>MES</th>\n",
       "      <th>atraso_15</th>\n",
       "      <th></th>\n",
       "    </tr>\n",
       "  </thead>\n",
       "  <tbody>\n",
       "    <tr>\n",
       "      <th rowspan=\"2\" valign=\"top\">1</th>\n",
       "      <th>0</th>\n",
       "      <td>83.985590</td>\n",
       "    </tr>\n",
       "    <tr>\n",
       "      <th>1</th>\n",
       "      <td>16.014410</td>\n",
       "    </tr>\n",
       "    <tr>\n",
       "      <th rowspan=\"2\" valign=\"top\">2</th>\n",
       "      <th>0</th>\n",
       "      <td>84.840856</td>\n",
       "    </tr>\n",
       "    <tr>\n",
       "      <th>1</th>\n",
       "      <td>15.159144</td>\n",
       "    </tr>\n",
       "    <tr>\n",
       "      <th rowspan=\"2\" valign=\"top\">3</th>\n",
       "      <th>0</th>\n",
       "      <td>88.519803</td>\n",
       "    </tr>\n",
       "    <tr>\n",
       "      <th>1</th>\n",
       "      <td>11.480197</td>\n",
       "    </tr>\n",
       "    <tr>\n",
       "      <th rowspan=\"2\" valign=\"top\">4</th>\n",
       "      <th>0</th>\n",
       "      <td>88.361897</td>\n",
       "    </tr>\n",
       "    <tr>\n",
       "      <th>1</th>\n",
       "      <td>11.638103</td>\n",
       "    </tr>\n",
       "    <tr>\n",
       "      <th rowspan=\"2\" valign=\"top\">5</th>\n",
       "      <th>0</th>\n",
       "      <td>84.256783</td>\n",
       "    </tr>\n",
       "    <tr>\n",
       "      <th>1</th>\n",
       "      <td>15.743217</td>\n",
       "    </tr>\n",
       "    <tr>\n",
       "      <th rowspan=\"2\" valign=\"top\">6</th>\n",
       "      <th>0</th>\n",
       "      <td>82.908215</td>\n",
       "    </tr>\n",
       "    <tr>\n",
       "      <th>1</th>\n",
       "      <td>17.091785</td>\n",
       "    </tr>\n",
       "    <tr>\n",
       "      <th rowspan=\"2\" valign=\"top\">7</th>\n",
       "      <th>0</th>\n",
       "      <td>70.655984</td>\n",
       "    </tr>\n",
       "    <tr>\n",
       "      <th>1</th>\n",
       "      <td>29.344016</td>\n",
       "    </tr>\n",
       "    <tr>\n",
       "      <th rowspan=\"2\" valign=\"top\">8</th>\n",
       "      <th>0</th>\n",
       "      <td>82.671543</td>\n",
       "    </tr>\n",
       "    <tr>\n",
       "      <th>1</th>\n",
       "      <td>17.328457</td>\n",
       "    </tr>\n",
       "    <tr>\n",
       "      <th rowspan=\"2\" valign=\"top\">9</th>\n",
       "      <th>0</th>\n",
       "      <td>82.759850</td>\n",
       "    </tr>\n",
       "    <tr>\n",
       "      <th>1</th>\n",
       "      <td>17.240150</td>\n",
       "    </tr>\n",
       "    <tr>\n",
       "      <th rowspan=\"2\" valign=\"top\">10</th>\n",
       "      <th>0</th>\n",
       "      <td>77.400099</td>\n",
       "    </tr>\n",
       "    <tr>\n",
       "      <th>1</th>\n",
       "      <td>22.599901</td>\n",
       "    </tr>\n",
       "    <tr>\n",
       "      <th rowspan=\"2\" valign=\"top\">11</th>\n",
       "      <th>0</th>\n",
       "      <td>80.306022</td>\n",
       "    </tr>\n",
       "    <tr>\n",
       "      <th>1</th>\n",
       "      <td>19.693978</td>\n",
       "    </tr>\n",
       "    <tr>\n",
       "      <th rowspan=\"2\" valign=\"top\">12</th>\n",
       "      <th>0</th>\n",
       "      <td>74.590938</td>\n",
       "    </tr>\n",
       "    <tr>\n",
       "      <th>1</th>\n",
       "      <td>25.409062</td>\n",
       "    </tr>\n",
       "  </tbody>\n",
       "</table>\n",
       "</div>"
      ],
      "text/plain": [
       "                 Fecha-I\n",
       "MES atraso_15           \n",
       "1   0          83.985590\n",
       "    1          16.014410\n",
       "2   0          84.840856\n",
       "    1          15.159144\n",
       "3   0          88.519803\n",
       "    1          11.480197\n",
       "4   0          88.361897\n",
       "    1          11.638103\n",
       "5   0          84.256783\n",
       "    1          15.743217\n",
       "6   0          82.908215\n",
       "    1          17.091785\n",
       "7   0          70.655984\n",
       "    1          29.344016\n",
       "8   0          82.671543\n",
       "    1          17.328457\n",
       "9   0          82.759850\n",
       "    1          17.240150\n",
       "10  0          77.400099\n",
       "    1          22.599901\n",
       "11  0          80.306022\n",
       "    1          19.693978\n",
       "12  0          74.590938\n",
       "    1          25.409062"
      ]
     },
     "execution_count": 117,
     "metadata": {},
     "output_type": "execute_result"
    }
   ],
   "source": [
    "(\n",
    "    features_scl.loc[:,['MES', 'atraso_15','Fecha-I']].groupby(by=['MES', 'atraso_15']).count()*100 /\n",
    "    features_scl.loc[:,['MES', 'Fecha-I']].groupby(by=['MES']).count()\n",
    ")"
   ]
  },
  {
   "cell_type": "markdown",
   "metadata": {},
   "source": [
    "Existen meses con una mayor tasa de atraso, se relaciona con la variable de temporada alta, y temporada baja"
   ]
  },
  {
   "cell_type": "code",
   "execution_count": 118,
   "metadata": {},
   "outputs": [
    {
     "data": {
      "text/html": [
       "<div>\n",
       "<style scoped>\n",
       "    .dataframe tbody tr th:only-of-type {\n",
       "        vertical-align: middle;\n",
       "    }\n",
       "\n",
       "    .dataframe tbody tr th {\n",
       "        vertical-align: top;\n",
       "    }\n",
       "\n",
       "    .dataframe thead th {\n",
       "        text-align: right;\n",
       "    }\n",
       "</style>\n",
       "<table border=\"1\" class=\"dataframe\">\n",
       "  <thead>\n",
       "    <tr style=\"text-align: right;\">\n",
       "      <th></th>\n",
       "      <th></th>\n",
       "      <th>Fecha-I</th>\n",
       "    </tr>\n",
       "    <tr>\n",
       "      <th>DIANOM</th>\n",
       "      <th>atraso_15</th>\n",
       "      <th></th>\n",
       "    </tr>\n",
       "  </thead>\n",
       "  <tbody>\n",
       "    <tr>\n",
       "      <th rowspan=\"2\" valign=\"top\">Domingo</th>\n",
       "      <th>0</th>\n",
       "      <td>83.906872</td>\n",
       "    </tr>\n",
       "    <tr>\n",
       "      <th>1</th>\n",
       "      <td>16.093128</td>\n",
       "    </tr>\n",
       "    <tr>\n",
       "      <th rowspan=\"2\" valign=\"top\">Jueves</th>\n",
       "      <th>0</th>\n",
       "      <td>80.052724</td>\n",
       "    </tr>\n",
       "    <tr>\n",
       "      <th>1</th>\n",
       "      <td>19.947276</td>\n",
       "    </tr>\n",
       "    <tr>\n",
       "      <th rowspan=\"2\" valign=\"top\">Lunes</th>\n",
       "      <th>0</th>\n",
       "      <td>79.798578</td>\n",
       "    </tr>\n",
       "    <tr>\n",
       "      <th>1</th>\n",
       "      <td>20.201422</td>\n",
       "    </tr>\n",
       "    <tr>\n",
       "      <th rowspan=\"2\" valign=\"top\">Martes</th>\n",
       "      <th>0</th>\n",
       "      <td>83.096988</td>\n",
       "    </tr>\n",
       "    <tr>\n",
       "      <th>1</th>\n",
       "      <td>16.903012</td>\n",
       "    </tr>\n",
       "    <tr>\n",
       "      <th rowspan=\"2\" valign=\"top\">Miercoles</th>\n",
       "      <th>0</th>\n",
       "      <td>82.921811</td>\n",
       "    </tr>\n",
       "    <tr>\n",
       "      <th>1</th>\n",
       "      <td>17.078189</td>\n",
       "    </tr>\n",
       "    <tr>\n",
       "      <th rowspan=\"2\" valign=\"top\">Sabado</th>\n",
       "      <th>0</th>\n",
       "      <td>83.678601</td>\n",
       "    </tr>\n",
       "    <tr>\n",
       "      <th>1</th>\n",
       "      <td>16.321399</td>\n",
       "    </tr>\n",
       "    <tr>\n",
       "      <th rowspan=\"2\" valign=\"top\">Viernes</th>\n",
       "      <th>0</th>\n",
       "      <td>77.813411</td>\n",
       "    </tr>\n",
       "    <tr>\n",
       "      <th>1</th>\n",
       "      <td>22.186589</td>\n",
       "    </tr>\n",
       "  </tbody>\n",
       "</table>\n",
       "</div>"
      ],
      "text/plain": [
       "                       Fecha-I\n",
       "DIANOM    atraso_15           \n",
       "Domingo   0          83.906872\n",
       "          1          16.093128\n",
       "Jueves    0          80.052724\n",
       "          1          19.947276\n",
       "Lunes     0          79.798578\n",
       "          1          20.201422\n",
       "Martes    0          83.096988\n",
       "          1          16.903012\n",
       "Miercoles 0          82.921811\n",
       "          1          17.078189\n",
       "Sabado    0          83.678601\n",
       "          1          16.321399\n",
       "Viernes   0          77.813411\n",
       "          1          22.186589"
      ]
     },
     "execution_count": 118,
     "metadata": {},
     "output_type": "execute_result"
    }
   ],
   "source": [
    "(\n",
    "    features_scl.loc[:,['DIANOM', 'atraso_15','Fecha-I']].groupby(by=['DIANOM', 'atraso_15']).count()*100 /\n",
    "    features_scl.loc[:,['DIANOM', 'Fecha-I']].groupby(by=['DIANOM']).count()\n",
    ")"
   ]
  },
  {
   "cell_type": "markdown",
   "metadata": {},
   "source": [
    "El día viernes tiene una mayor tasa de atraso, es posible que se programen más vuelos los días viernes."
   ]
  },
  {
   "cell_type": "code",
   "execution_count": 119,
   "metadata": {},
   "outputs": [
    {
     "data": {
      "text/html": [
       "<div>\n",
       "<style scoped>\n",
       "    .dataframe tbody tr th:only-of-type {\n",
       "        vertical-align: middle;\n",
       "    }\n",
       "\n",
       "    .dataframe tbody tr th {\n",
       "        vertical-align: top;\n",
       "    }\n",
       "\n",
       "    .dataframe thead th {\n",
       "        text-align: right;\n",
       "    }\n",
       "</style>\n",
       "<table border=\"1\" class=\"dataframe\">\n",
       "  <thead>\n",
       "    <tr style=\"text-align: right;\">\n",
       "      <th></th>\n",
       "      <th>Fecha-I</th>\n",
       "    </tr>\n",
       "    <tr>\n",
       "      <th>DIANOM</th>\n",
       "      <th></th>\n",
       "    </tr>\n",
       "  </thead>\n",
       "  <tbody>\n",
       "    <tr>\n",
       "      <th>Domingo</th>\n",
       "      <td>14.362396</td>\n",
       "    </tr>\n",
       "    <tr>\n",
       "      <th>Jueves</th>\n",
       "      <td>15.020899</td>\n",
       "    </tr>\n",
       "    <tr>\n",
       "      <th>Lunes</th>\n",
       "      <td>14.853707</td>\n",
       "    </tr>\n",
       "    <tr>\n",
       "      <th>Martes</th>\n",
       "      <td>14.168805</td>\n",
       "    </tr>\n",
       "    <tr>\n",
       "      <th>Miercoles</th>\n",
       "      <td>14.255335</td>\n",
       "    </tr>\n",
       "    <tr>\n",
       "      <th>Sabado</th>\n",
       "      <td>12.247562</td>\n",
       "    </tr>\n",
       "    <tr>\n",
       "      <th>Viernes</th>\n",
       "      <td>15.091296</td>\n",
       "    </tr>\n",
       "  </tbody>\n",
       "</table>\n",
       "</div>"
      ],
      "text/plain": [
       "             Fecha-I\n",
       "DIANOM              \n",
       "Domingo    14.362396\n",
       "Jueves     15.020899\n",
       "Lunes      14.853707\n",
       "Martes     14.168805\n",
       "Miercoles  14.255335\n",
       "Sabado     12.247562\n",
       "Viernes    15.091296"
      ]
     },
     "execution_count": 119,
     "metadata": {},
     "output_type": "execute_result"
    }
   ],
   "source": [
    "features_scl.loc[:,['DIANOM', 'Fecha-I']].groupby(by=['DIANOM']).count()*100 / features_scl.shape[0]"
   ]
  },
  {
   "cell_type": "markdown",
   "metadata": {},
   "source": [
    "Durante los días jueves y viernes hay más demanda de vuelos, lo que se relaciona con la tasa de atraso explicada anteriormente. Mientras que martes, sabado y domingo tienen menor demanda, y una menor tasa de atraso."
   ]
  },
  {
   "cell_type": "markdown",
   "metadata": {},
   "source": [
    "### Atraso según destino"
   ]
  },
  {
   "cell_type": "markdown",
   "metadata": {},
   "source": [
    "Ya sabemos que los destinos internacionales tienen una mayor probabilidad de atraso, pero cuales son los 20 destinos frecuentes que generan mayores problemas?"
   ]
  },
  {
   "cell_type": "code",
   "execution_count": 120,
   "metadata": {},
   "outputs": [],
   "source": [
    "ciudades_atrasos = list(features_scl.loc[:,['SIGLADES','atraso_15']].groupby('SIGLADES').sum().sort_values(by='atraso_15', ascending=False).head(10).index)"
   ]
  },
  {
   "cell_type": "code",
   "execution_count": 121,
   "metadata": {},
   "outputs": [],
   "source": [
    "frecuencia_atrasos = features_scl.query(\"SIGLADES in @ciudades_atrasos\")"
   ]
  },
  {
   "cell_type": "code",
   "execution_count": 122,
   "metadata": {},
   "outputs": [
    {
     "data": {
      "text/html": [
       "<div>\n",
       "<style scoped>\n",
       "    .dataframe tbody tr th:only-of-type {\n",
       "        vertical-align: middle;\n",
       "    }\n",
       "\n",
       "    .dataframe tbody tr th {\n",
       "        vertical-align: top;\n",
       "    }\n",
       "\n",
       "    .dataframe thead th {\n",
       "        text-align: right;\n",
       "    }\n",
       "</style>\n",
       "<table border=\"1\" class=\"dataframe\">\n",
       "  <thead>\n",
       "    <tr style=\"text-align: right;\">\n",
       "      <th></th>\n",
       "      <th></th>\n",
       "      <th>Fecha-I</th>\n",
       "    </tr>\n",
       "    <tr>\n",
       "      <th>SIGLADES</th>\n",
       "      <th>atraso_15</th>\n",
       "      <th></th>\n",
       "    </tr>\n",
       "  </thead>\n",
       "  <tbody>\n",
       "    <tr>\n",
       "      <th rowspan=\"2\" valign=\"top\">Antofagasta</th>\n",
       "      <th>0</th>\n",
       "      <td>85.358686</td>\n",
       "    </tr>\n",
       "    <tr>\n",
       "      <th>1</th>\n",
       "      <td>14.641314</td>\n",
       "    </tr>\n",
       "    <tr>\n",
       "      <th rowspan=\"2\" valign=\"top\">Bogota</th>\n",
       "      <th>0</th>\n",
       "      <td>74.127182</td>\n",
       "    </tr>\n",
       "    <tr>\n",
       "      <th>1</th>\n",
       "      <td>25.872818</td>\n",
       "    </tr>\n",
       "    <tr>\n",
       "      <th rowspan=\"2\" valign=\"top\">Buenos Aires</th>\n",
       "      <th>0</th>\n",
       "      <td>74.427782</td>\n",
       "    </tr>\n",
       "    <tr>\n",
       "      <th>1</th>\n",
       "      <td>25.572218</td>\n",
       "    </tr>\n",
       "    <tr>\n",
       "      <th rowspan=\"2\" valign=\"top\">Calama</th>\n",
       "      <th>0</th>\n",
       "      <td>87.776914</td>\n",
       "    </tr>\n",
       "    <tr>\n",
       "      <th>1</th>\n",
       "      <td>12.223086</td>\n",
       "    </tr>\n",
       "    <tr>\n",
       "      <th rowspan=\"2\" valign=\"top\">Concepcion</th>\n",
       "      <th>0</th>\n",
       "      <td>84.474542</td>\n",
       "    </tr>\n",
       "    <tr>\n",
       "      <th>1</th>\n",
       "      <td>15.525458</td>\n",
       "    </tr>\n",
       "    <tr>\n",
       "      <th rowspan=\"2\" valign=\"top\">Iquique</th>\n",
       "      <th>0</th>\n",
       "      <td>82.919669</td>\n",
       "    </tr>\n",
       "    <tr>\n",
       "      <th>1</th>\n",
       "      <td>17.080331</td>\n",
       "    </tr>\n",
       "    <tr>\n",
       "      <th rowspan=\"2\" valign=\"top\">Lima</th>\n",
       "      <th>0</th>\n",
       "      <td>76.974184</td>\n",
       "    </tr>\n",
       "    <tr>\n",
       "      <th>1</th>\n",
       "      <td>23.025816</td>\n",
       "    </tr>\n",
       "    <tr>\n",
       "      <th rowspan=\"2\" valign=\"top\">Mendoza</th>\n",
       "      <th>0</th>\n",
       "      <td>72.738462</td>\n",
       "    </tr>\n",
       "    <tr>\n",
       "      <th>1</th>\n",
       "      <td>27.261538</td>\n",
       "    </tr>\n",
       "    <tr>\n",
       "      <th rowspan=\"2\" valign=\"top\">Puerto Montt</th>\n",
       "      <th>0</th>\n",
       "      <td>83.153546</td>\n",
       "    </tr>\n",
       "    <tr>\n",
       "      <th>1</th>\n",
       "      <td>16.846454</td>\n",
       "    </tr>\n",
       "    <tr>\n",
       "      <th rowspan=\"2\" valign=\"top\">Sao Paulo</th>\n",
       "      <th>0</th>\n",
       "      <td>75.315214</td>\n",
       "    </tr>\n",
       "    <tr>\n",
       "      <th>1</th>\n",
       "      <td>24.684786</td>\n",
       "    </tr>\n",
       "  </tbody>\n",
       "</table>\n",
       "</div>"
      ],
      "text/plain": [
       "                          Fecha-I\n",
       "SIGLADES     atraso_15           \n",
       "Antofagasta  0          85.358686\n",
       "             1          14.641314\n",
       "Bogota       0          74.127182\n",
       "             1          25.872818\n",
       "Buenos Aires 0          74.427782\n",
       "             1          25.572218\n",
       "Calama       0          87.776914\n",
       "             1          12.223086\n",
       "Concepcion   0          84.474542\n",
       "             1          15.525458\n",
       "Iquique      0          82.919669\n",
       "             1          17.080331\n",
       "Lima         0          76.974184\n",
       "             1          23.025816\n",
       "Mendoza      0          72.738462\n",
       "             1          27.261538\n",
       "Puerto Montt 0          83.153546\n",
       "             1          16.846454\n",
       "Sao Paulo    0          75.315214\n",
       "             1          24.684786"
      ]
     },
     "execution_count": 122,
     "metadata": {},
     "output_type": "execute_result"
    }
   ],
   "source": [
    "(\n",
    "    frecuencia_atrasos.loc[:,['SIGLADES', 'atraso_15','Fecha-I']].groupby(by=['SIGLADES', 'atraso_15']).count()*100 /\n",
    "    frecuencia_atrasos.loc[:,['SIGLADES', 'Fecha-I']].groupby(by=['SIGLADES']).count()\n",
    ")"
   ]
  },
  {
   "cell_type": "markdown",
   "metadata": {},
   "source": [
    "En general los vuelos internacionales tienen una mayor tasa de atraso, mientras que los destinos nacionales tienen una menor tasa de atraso"
   ]
  },
  {
   "cell_type": "markdown",
   "metadata": {},
   "source": [
    "### Cantidad de vuelos por día\n",
    "\n",
    "Tengo la intuición de que los días con una cantidad alta de vuelos programados, tienden a tener una mayor probabilidad de atraso.\n",
    "\n",
    "Features para representar este fenomeno: n° vuelos programados en las últimas 12 horas y n° vuelos programados en las siguientes 12 horas.\n",
    "Esto ayuda a representar la carga laboral asociada a cierto periodo en el aeropuerto, atrasando la logistica de los vuelos.\n",
    "\n",
    "Gráfico de atraso vs n° vuelos últimas 12 horas."
   ]
  },
  {
   "cell_type": "code",
   "execution_count": 123,
   "metadata": {},
   "outputs": [
    {
     "data": {
      "text/plain": [
       "Index(['Fecha-I', 'Vlo-I', 'Ori-I', 'Des-I', 'Emp-I', 'Fecha-O', 'Vlo-O',\n",
       "       'Ori-O', 'Des-O', 'Emp-O', 'DIA', 'MES', 'AÑO', 'DIANOM', 'TIPOVUELO',\n",
       "       'OPERA', 'SIGLAORI', 'SIGLADES', 'temporada_alta', 'dif_min',\n",
       "       'atraso_15', 'periodo_dia', 'hora', 'v_last_12', 'v_next_12',\n",
       "       'v_last_6', 'v_next_6', 'v_last_3', 'v_next_3'],\n",
       "      dtype='object')"
      ]
     },
     "execution_count": 123,
     "metadata": {},
     "output_type": "execute_result"
    }
   ],
   "source": [
    "features_scl.columns"
   ]
  },
  {
   "cell_type": "code",
   "execution_count": 124,
   "metadata": {},
   "outputs": [
    {
     "data": {
      "text/plain": [
       "<AxesSubplot: title={'center': 'v_last_12'}, xlabel='atraso_15'>"
      ]
     },
     "execution_count": 124,
     "metadata": {},
     "output_type": "execute_result"
    },
    {
     "data": {
      "image/png": "[encoded data removed]",
      "text/plain": [
       "<Figure size 640x480 with 1 Axes>"
      ]
     },
     "metadata": {},
     "output_type": "display_data"
    }
   ],
   "source": [
    "features_scl.boxplot(by ='atraso_15', column =['v_last_12'], grid = False)"
   ]
  },
  {
   "cell_type": "code",
   "execution_count": 125,
   "metadata": {},
   "outputs": [
    {
     "data": {
      "text/plain": [
       "<AxesSubplot: title={'center': 'v_last_6'}, xlabel='atraso_15'>"
      ]
     },
     "execution_count": 125,
     "metadata": {},
     "output_type": "execute_result"
    },
    {
     "data": {
      "image/png": "[encoded data removed]",
      "text/plain": [
       "<Figure size 640x480 with 1 Axes>"
      ]
     },
     "metadata": {},
     "output_type": "display_data"
    }
   ],
   "source": [
    "features_scl.boxplot(by ='atraso_15', column =['v_last_6'], grid = False)"
   ]
  },
  {
   "cell_type": "code",
   "execution_count": 126,
   "metadata": {},
   "outputs": [
    {
     "data": {
      "text/plain": [
       "<AxesSubplot: title={'center': 'v_last_3'}, xlabel='atraso_15'>"
      ]
     },
     "execution_count": 126,
     "metadata": {},
     "output_type": "execute_result"
    },
    {
     "data": {
      "image/png": "[encoded data removed]",
      "text/plain": [
       "<Figure size 640x480 with 1 Axes>"
      ]
     },
     "metadata": {},
     "output_type": "display_data"
    }
   ],
   "source": [
    "features_scl.boxplot(by ='atraso_15', column =['v_last_3'], grid = False)"
   ]
  },
  {
   "cell_type": "code",
   "execution_count": 127,
   "metadata": {},
   "outputs": [
    {
     "data": {
      "text/plain": [
       "<AxesSubplot: title={'center': 'v_next_12'}, xlabel='atraso_15'>"
      ]
     },
     "execution_count": 127,
     "metadata": {},
     "output_type": "execute_result"
    },
    {
     "data": {
      "image/png": "[encoded data removed]",
      "text/plain": [
       "<Figure size 640x480 with 1 Axes>"
      ]
     },
     "metadata": {},
     "output_type": "display_data"
    }
   ],
   "source": [
    "features_scl.boxplot(by ='atraso_15', column =['v_next_12'], grid = False)"
   ]
  },
  {
   "cell_type": "code",
   "execution_count": 128,
   "metadata": {},
   "outputs": [
    {
     "data": {
      "text/plain": [
       "<AxesSubplot: title={'center': 'v_next_6'}, xlabel='atraso_15'>"
      ]
     },
     "execution_count": 128,
     "metadata": {},
     "output_type": "execute_result"
    },
    {
     "data": {
      "image/png": "[encoded data removed]",
      "text/plain": [
       "<Figure size 640x480 with 1 Axes>"
      ]
     },
     "metadata": {},
     "output_type": "display_data"
    }
   ],
   "source": [
    "features_scl.boxplot(by ='atraso_15', column =['v_next_6'], grid = False)"
   ]
  },
  {
   "cell_type": "code",
   "execution_count": 129,
   "metadata": {},
   "outputs": [
    {
     "data": {
      "text/plain": [
       "<AxesSubplot: title={'center': 'v_next_3'}, xlabel='atraso_15'>"
      ]
     },
     "execution_count": 129,
     "metadata": {},
     "output_type": "execute_result"
    },
    {
     "data": {
      "image/png": "[encoded data removed]",
      "text/plain": [
       "<Figure size 640x480 with 1 Axes>"
      ]
     },
     "metadata": {},
     "output_type": "display_data"
    }
   ],
   "source": [
    "features_scl.boxplot(by ='atraso_15', column =['v_next_3'], grid = False)"
   ]
  },
  {
   "cell_type": "markdown",
   "metadata": {},
   "source": [
    "Según los boxplots, la feature de vuelos en las últimas 6 horas es la que mejor separa las dos clases (atraso vs no-atraso). Mientras que las features que muestran los vuelos de las siguientes n horas, no muestran una correlación con el atraso."
   ]
  },
  {
   "cell_type": "markdown",
   "metadata": {},
   "source": []
  }
 ],
 "metadata": {
  "kernelspec": {
   "display_name": "Python 3.11.0 ('premier-test')",
   "language": "python",
   "name": "python3"
  },
  "language_info": {
   "codemirror_mode": {
    "name": "ipython",
    "version": 3
   },
   "file_extension": ".py",
   "mimetype": "text/x-python",
   "name": "python",
   "nbconvert_exporter": "python",
   "pygments_lexer": "ipython3",
   "version": "3.11.0"
  },
  "orig_nbformat": 4,
  "vscode": {
   "interpreter": {
    "hash": "7872735e353004fc53505fa026cec2d6e4ec5ba157960d15594f4aff1692a9f1"
   }
  }
 },
 "nbformat": 4,
 "nbformat_minor": 2
}
