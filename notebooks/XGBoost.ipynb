{
 "cells": [
  {
   "cell_type": "markdown",
   "metadata": {},
   "source": [
    "# Predicción de atrasao con XGBoost\n",
    "\n",
    "XGBoost es un algoritmo rápido, eficiente y certero basado en Random Forest, o árboles de desisión. Tenemos suficientes observaciones en la data de entrenamiento para utilizar este modelo y relativamente pocas features. Finalmente tenemos features númericas y categoricas que se adaptan a este tipo de modelos."
   ]
  },
  {
   "cell_type": "code",
   "execution_count": 5,
   "metadata": {},
   "outputs": [],
   "source": [
    "import pandas as pd\n",
    "import numpy as np\n",
    "\n",
    "features_scl = pd.read_csv('../clean_data/synthetic_features.csv', parse_dates=['Fecha-I', 'Fecha-O'])\n",
    "# Tipo vuelo en variable booleana\n",
    "features_scl['tipo_b'] = np.where(features_scl['TIPOVUELO']=='N', 1, 0)\n",
    "periodo_dia_ohe = pd.get_dummies(features_scl['periodo_dia'])\n",
    "features_scl = features_scl.join(periodo_dia_ohe)\n",
    "dianom_ohe = pd.get_dummies(features_scl['DIANOM'])\n",
    "features_scl = features_scl.join(dianom_ohe)\n",
    "opera_ohe = pd.get_dummies(features_scl['OPERA'])\n",
    "features_scl = features_scl.join(opera_ohe)\n",
    "\n",
    "# mean normalization\n",
    "features_scl['norm_v_last_6'] = (\n",
    "    (\n",
    "        features_scl['v_last_6'] -\n",
    "        features_scl['v_last_6'].mean()\n",
    "    ) / \n",
    "    features_scl['v_last_6'].std()\n",
    ")"
   ]
  },
  {
   "cell_type": "code",
   "execution_count": 6,
   "metadata": {},
   "outputs": [],
   "source": [
    "# Columns into model\n",
    "model_columns = [\n",
    "    'temporada_alta', 'tipo_b',\n",
    "    'mañana', 'noche', 'tarde', \n",
    "    'Domingo', 'Jueves', 'Lunes', 'Martes',\n",
    "    'Miercoles', 'Sabado', 'Viernes', 'norm_v_last_6',\n",
    "    'Aerolineas Argentinas', 'Aeromexico',\n",
    "    'Air Canada', 'Air France', 'Alitalia', 'American Airlines', 'Austral',\n",
    "    'Avianca', 'British Airways', 'Copa Air', 'Delta Air', 'Gol Trans',\n",
    "    'Grupo LATAM', 'Iberia', 'JetSmart SPA', 'K.L.M.', 'Lacsa',\n",
    "    'Latin American Wings', 'Oceanair Linhas Aereas',\n",
    "    'Plus Ultra Lineas Aereas', 'Qantas Airways', 'Sky Airline',\n",
    "    'United Airlines',\n",
    "]\n",
    "\n",
    "X = features_scl.loc[:,model_columns]\n",
    "y = features_scl['atraso_15']"
   ]
  },
  {
   "cell_type": "code",
   "execution_count": 12,
   "metadata": {},
   "outputs": [
    {
     "name": "stdout",
     "output_type": "stream",
     "text": [
      "Mean ROC AUC: 0.68004\n"
     ]
    }
   ],
   "source": [
    "# fit xgboost on an imbalanced classification dataset\n",
    "from numpy import mean\n",
    "from sklearn.datasets import make_classification\n",
    "from sklearn.model_selection import cross_val_score\n",
    "from sklearn.model_selection import RepeatedStratifiedKFold\n",
    "from xgboost import XGBClassifier\n",
    "\n",
    "# define model\n",
    "model = XGBClassifier()\n",
    "# define evaluation procedure\n",
    "cv = RepeatedStratifiedKFold(n_splits=10, n_repeats=3, random_state=1)\n",
    "# evaluate model\n",
    "scores = cross_val_score(model, X, y, scoring='roc_auc', cv=cv, n_jobs=-1)\n",
    "\n",
    "print('Mean ROC AUC: %.5f' % mean(scores))"
   ]
  },
  {
   "cell_type": "markdown",
   "metadata": {},
   "source": [
    "El modelo XGBoost tiene un roc_auc de 0.680, mejorando un poco frente al regresor lógistico (0.668)\n"
   ]
  },
  {
   "cell_type": "markdown",
   "metadata": {},
   "source": []
  }
 ],
 "metadata": {
  "kernelspec": {
   "display_name": "Python 3.11.0 ('premier-test')",
   "language": "python",
   "name": "python3"
  },
  "language_info": {
   "codemirror_mode": {
    "name": "ipython",
    "version": 3
   },
   "file_extension": ".py",
   "mimetype": "text/x-python",
   "name": "python",
   "nbconvert_exporter": "python",
   "pygments_lexer": "ipython3",
   "version": "3.11.0"
  },
  "orig_nbformat": 4,
  "vscode": {
   "interpreter": {
    "hash": "7872735e353004fc53505fa026cec2d6e4ec5ba157960d15594f4aff1692a9f1"
   }
  }
 },
 "nbformat": 4,
 "nbformat_minor": 2
}
