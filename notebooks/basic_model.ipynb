{
 "cells": [
  {
   "cell_type": "markdown",
   "metadata": {},
   "source": [
    "# Predicción de atraso\n",
    "\n",
    "Dado un vuelo, podemos conocer desde antemano su fecha planificada y sus caracteristicas asociadas, la aerolinea que opera, su destino y la densidad de vuelos programados para cada día.\n",
    "\n",
    "Buscamos predecir si un vuelo va a tener un atraso mayor a 15 minutos.\n",
    "\n",
    "Sabemos a priori que el 18.4% de los vuelos se atrasan más de 15 minutos, mientras que un 81.6% de los vuelos no se atrasan.\n",
    "\n",
    "La variable objetivo `atraso_15` tiene un valor 1 si el vuelo se atrasa, y un 0 en caso constrario.\n",
    "\n",
    "Necesitamos un modelo que sea capaz de utilizar features booleanas (1 o 0) y númericas, y entregar un resultado booleano."
   ]
  },
  {
   "cell_type": "code",
   "execution_count": 50,
   "metadata": {},
   "outputs": [
    {
     "data": {
      "text/plain": [
       "Index(['Fecha-I', 'Vlo-I', 'Ori-I', 'Des-I', 'Emp-I', 'Fecha-O', 'Vlo-O',\n",
       "       'Ori-O', 'Des-O', 'Emp-O', 'DIA', 'MES', 'AÑO', 'DIANOM', 'TIPOVUELO',\n",
       "       'OPERA', 'SIGLAORI', 'SIGLADES', 'temporada_alta', 'dif_min',\n",
       "       'atraso_15', 'periodo_dia', 'hora', 'v_last_12', 'v_next_12',\n",
       "       'v_last_6', 'v_next_6', 'v_last_3', 'v_next_3'],\n",
       "      dtype='object')"
      ]
     },
     "execution_count": 50,
     "metadata": {},
     "output_type": "execute_result"
    }
   ],
   "source": [
    "import pandas as pd\n",
    "\n",
    "features_scl = pd.read_csv('../clean_data/synthetic_features.csv', parse_dates=['Fecha-I', 'Fecha-O'])\n",
    "\n",
    "features_scl.columns"
   ]
  },
  {
   "cell_type": "markdown",
   "metadata": {},
   "source": [
    "## Features a utilizar\n",
    "\n",
    "Empezaremos con una cantidad limitada de features para nuestro primer modelo, necesitamos realizar un tratamiento a nuestras features categoricas y númericas.\n",
    "- Tipo de vuelo (nacional vs internacional) -> Nacional 1 y Internacional 0\n",
    "- Temporada alta vs temporada baja -> alta 1 y baja 0\n",
    "- Hora día: Mañana - Tarde - Noche -> One hot encoding\n",
    "- Día de la semana -> One hot encoding\n",
    "- Cantidad de vuelos programados últimas 6 horas -> Variable continua positiva (normalizar)\n",
    "- Aerolinea -> One hot encoding\n",
    "\n",
    "One-hot-encoding: Transformar variables categoricas en multiples variables booleanas.\n",
    "Variable ciclica sinusoidal: Transformar fechas (día del año, día del mes, día de la semana) en seno y coseno para capturar orden y naturaleza ciclica en variables númericas."
   ]
  },
  {
   "cell_type": "code",
   "execution_count": 51,
   "metadata": {},
   "outputs": [
    {
     "data": {
      "text/plain": [
       "Index(['Fecha-I', 'Vlo-I', 'Ori-I', 'Des-I', 'Emp-I', 'Fecha-O', 'Vlo-O',\n",
       "       'Ori-O', 'Des-O', 'Emp-O', 'DIA', 'MES', 'AÑO', 'DIANOM', 'TIPOVUELO',\n",
       "       'OPERA', 'SIGLAORI', 'SIGLADES', 'temporada_alta', 'dif_min',\n",
       "       'atraso_15', 'periodo_dia', 'hora', 'v_last_12', 'v_next_12',\n",
       "       'v_last_6', 'v_next_6', 'v_last_3', 'v_next_3'],\n",
       "      dtype='object')"
      ]
     },
     "execution_count": 51,
     "metadata": {},
     "output_type": "execute_result"
    }
   ],
   "source": [
    "features_scl.columns"
   ]
  },
  {
   "cell_type": "code",
   "execution_count": 52,
   "metadata": {},
   "outputs": [],
   "source": [
    "import numpy as np\n",
    "# Tipo vuelo en variable booleana\n",
    "features_scl['tipo_b'] = np.where(features_scl['TIPOVUELO']=='N', 1, 0)"
   ]
  },
  {
   "cell_type": "code",
   "execution_count": 53,
   "metadata": {},
   "outputs": [],
   "source": [
    "periodo_dia_ohe = pd.get_dummies(features_scl['periodo_dia'])\n",
    "features_scl = features_scl.join(periodo_dia_ohe)"
   ]
  },
  {
   "cell_type": "code",
   "execution_count": 54,
   "metadata": {},
   "outputs": [],
   "source": [
    "dianom_ohe = pd.get_dummies(features_scl['DIANOM'])\n",
    "features_scl = features_scl.join(dianom_ohe)"
   ]
  },
  {
   "cell_type": "code",
   "execution_count": 55,
   "metadata": {},
   "outputs": [],
   "source": [
    "opera_ohe = pd.get_dummies(features_scl['OPERA'])\n",
    "features_scl = features_scl.join(opera_ohe)"
   ]
  },
  {
   "cell_type": "code",
   "execution_count": 56,
   "metadata": {},
   "outputs": [],
   "source": [
    "# mean normalization\n",
    "features_scl['norm_v_last_6'] = (\n",
    "    (\n",
    "        features_scl['v_last_6'] -\n",
    "        features_scl['v_last_6'].mean()\n",
    "    ) / \n",
    "    features_scl['v_last_6'].std()\n",
    ")"
   ]
  },
  {
   "cell_type": "code",
   "execution_count": 57,
   "metadata": {},
   "outputs": [],
   "source": [
    "# Columns into model\n",
    "model_columns = [\n",
    "    'temporada_alta', 'tipo_b',\n",
    "    'mañana', 'noche', 'tarde', \n",
    "    'Domingo', 'Jueves', 'Lunes', 'Martes',\n",
    "    'Miercoles', 'Sabado', 'Viernes', 'norm_v_last_6',\n",
    "    'Aerolineas Argentinas', 'Aeromexico',\n",
    "    'Air Canada', 'Air France', 'Alitalia', 'American Airlines', 'Austral',\n",
    "    'Avianca', 'British Airways', 'Copa Air', 'Delta Air', 'Gol Trans',\n",
    "    'Grupo LATAM', 'Iberia', 'JetSmart SPA', 'K.L.M.', 'Lacsa',\n",
    "    'Latin American Wings', 'Oceanair Linhas Aereas',\n",
    "    'Plus Ultra Lineas Aereas', 'Qantas Airways', 'Sky Airline',\n",
    "    'United Airlines',\n",
    "]\n",
    "\n",
    "X = features_scl.loc[:,model_columns]\n",
    "y = features_scl['atraso_15']"
   ]
  },
  {
   "cell_type": "markdown",
   "metadata": {},
   "source": [
    "## Modelo Regresión logistica binaria\n",
    "\n",
    "Ejemplo: [Handling imbalanced data with class weights in logistic regression](https://analyticsindiamag.com/handling-imbalanced-data-with-class-weights-in-logistic-regression/)\n",
    "\n",
    "Tenemos una salida de dos clases (atraso = 1, no atraso = 0). Algoritmo rápido, simple y fácil de interpretar.\n",
    "\n",
    "Separar features y target (atraso_15) en dos grupos, uno para entrenar el modelo, y otro para evaluar el modelo. Podemos separar los registros de manera aleatoria, dado que todas las features se pueden conocer con anticipación. Y vamos a asumir que entre un año y otro las features de temporalidad se mantienen constantes."
   ]
  },
  {
   "cell_type": "code",
   "execution_count": 58,
   "metadata": {},
   "outputs": [],
   "source": [
    "from sklearn.model_selection import train_test_split\n",
    "from sklearn.linear_model import LogisticRegression\n",
    "\n",
    "X_train, X_test, y_train, y_test = train_test_split(\n",
    "    X, y, test_size=0.3, random_state=42\n",
    ")\n",
    "\n",
    "logreg = LogisticRegression(random_state=42, class_weight='balanced') # Unbalanced dataset\n",
    "model = logreg.fit(X_train, y_train) # Fit model\n",
    "\n",
    "y_pred = model.predict(X_test)"
   ]
  },
  {
   "cell_type": "markdown",
   "metadata": {},
   "source": [
    "En la variable prediction tenemos los resultados de las predicciones para el modelo. Ahora tenemos que comprar las predicciones con los valores reales conocidos."
   ]
  },
  {
   "cell_type": "markdown",
   "metadata": {},
   "source": [
    "Conceptos importantes:\n",
    "* True positive — for correctly precited event values\n",
    "* True negative — for correctly predicted no-event values\n",
    "* False positive — for incorrectly predicted event values\n",
    "* False negative — for incorrectly predicted no-event values"
   ]
  },
  {
   "cell_type": "markdown",
   "metadata": {},
   "source": [
    "Para evaluar el modelo utilizaremos una matriz de confusión, y obtener nuestra precisión TP/(TP+FP) y Recall TP/(TP+FN). Finalmente utilizaremos la métrica F1-score, que es la media armonica entre presición y recall, y nos ayuda en este caso donde nuestras clases están desbalanceadas"
   ]
  },
  {
   "cell_type": "code",
   "execution_count": 60,
   "metadata": {},
   "outputs": [
    {
     "data": {
      "image/png": "[encoded data removed]",
      "text/plain": [
       "<Figure size 640x480 with 2 Axes>"
      ]
     },
     "metadata": {},
     "output_type": "display_data"
    }
   ],
   "source": [
    "from sklearn import metrics\n",
    "import matplotlib.pyplot as plt\n",
    "\n",
    "confusion_matrix = metrics.confusion_matrix(y_test, y_pred)\n",
    "cm_display = metrics.ConfusionMatrixDisplay(confusion_matrix = confusion_matrix, display_labels = [False, True])\n",
    "\n",
    "cm_display.plot()\n",
    "plt.show()"
   ]
  },
  {
   "cell_type": "code",
   "execution_count": 48,
   "metadata": {},
   "outputs": [
    {
     "name": "stdout",
     "output_type": "stream",
     "text": [
      "Accuracy 0.622\n",
      "Precision 0.275\n",
      "Recall 0.624\n",
      "F1 Score 0.382\n"
     ]
    }
   ],
   "source": [
    "from sklearn.metrics import f1_score, accuracy_score, precision_score, recall_score\n",
    "## Accuracy\n",
    "print('Accuracy', round(accuracy_score(y_test, y_pred),3))\n",
    "## Precision\n",
    "print('Precision', round(precision_score(y_test, y_pred),3))\n",
    "## Recall\n",
    "print('Recall', round(recall_score(y_test, y_pred),3))\n",
    "## F1 Score\n",
    "print('F1 Score', round(f1_score(y_test, y_pred),3))"
   ]
  },
  {
   "cell_type": "markdown",
   "metadata": {},
   "source": [
    "El modelo solo puede predecir correctamente un 62.4% (recall) de los atrasos reales.\n",
    "\n",
    "### Gráfico ROC AUC"
   ]
  },
  {
   "cell_type": "code",
   "execution_count": 65,
   "metadata": {},
   "outputs": [
    {
     "data": {
      "image/png": "[encoded data removed]",
      "text/plain": [
       "<Figure size 640x480 with 1 Axes>"
      ]
     },
     "metadata": {},
     "output_type": "display_data"
    }
   ],
   "source": [
    "import matplotlib.pyplot as plt\n",
    "\n",
    "y_pred_proba = logreg.predict_proba(X_test)[::,1]\n",
    "fpr, tpr, _ = metrics.roc_curve(y_test,  y_pred_proba)\n",
    "auc = metrics.roc_auc_score(y_test, y_pred_proba)\n",
    "\n",
    "#create ROC curve\n",
    "plt.plot(fpr,tpr,label=\"ROC_AUC=\"+str(round(auc,3)))\n",
    "plt.ylabel('True Positive Rate')\n",
    "plt.xlabel('False Positive Rate')\n",
    "plt.legend(loc=4)\n",
    "plt.show()"
   ]
  },
  {
   "cell_type": "markdown",
   "metadata": {},
   "source": [
    "El modelo de regresión logistica tiene un score ROC_AUC de 0.668\n",
    "\n",
    "El regresor lógistico puede capturar ciertos patrones, es mejor que un resultado aleatorio (roc_auc > 50%)."
   ]
  },
  {
   "cell_type": "markdown",
   "metadata": {},
   "source": [
    "### Cuales son las variables que más influyen en la predicción?\n",
    "\n",
    "Podemos considerar la magnitud de los coeficientes para cada parámetro en la data (considerar que todos los parámetros tienen una magnitud similar)"
   ]
  },
  {
   "cell_type": "code",
   "execution_count": 49,
   "metadata": {},
   "outputs": [
    {
     "data": {
      "text/html": [
       "<div>\n",
       "<style scoped>\n",
       "    .dataframe tbody tr th:only-of-type {\n",
       "        vertical-align: middle;\n",
       "    }\n",
       "\n",
       "    .dataframe tbody tr th {\n",
       "        vertical-align: top;\n",
       "    }\n",
       "\n",
       "    .dataframe thead th {\n",
       "        text-align: right;\n",
       "    }\n",
       "</style>\n",
       "<table border=\"1\" class=\"dataframe\">\n",
       "  <thead>\n",
       "    <tr style=\"text-align: right;\">\n",
       "      <th></th>\n",
       "      <th>variable</th>\n",
       "      <th>coeficiente</th>\n",
       "    </tr>\n",
       "  </thead>\n",
       "  <tbody>\n",
       "    <tr>\n",
       "      <th>14</th>\n",
       "      <td>Aeromexico</td>\n",
       "      <td>-2.200372</td>\n",
       "    </tr>\n",
       "    <tr>\n",
       "      <th>23</th>\n",
       "      <td>Delta Air</td>\n",
       "      <td>-1.401966</td>\n",
       "    </tr>\n",
       "    <tr>\n",
       "      <th>35</th>\n",
       "      <td>United Airlines</td>\n",
       "      <td>-1.261101</td>\n",
       "    </tr>\n",
       "    <tr>\n",
       "      <th>28</th>\n",
       "      <td>K.L.M.</td>\n",
       "      <td>-1.136553</td>\n",
       "    </tr>\n",
       "    <tr>\n",
       "      <th>18</th>\n",
       "      <td>American Airlines</td>\n",
       "      <td>-1.123853</td>\n",
       "    </tr>\n",
       "    <tr>\n",
       "      <th>16</th>\n",
       "      <td>Air France</td>\n",
       "      <td>-0.956218</td>\n",
       "    </tr>\n",
       "    <tr>\n",
       "      <th>22</th>\n",
       "      <td>Copa Air</td>\n",
       "      <td>-0.753657</td>\n",
       "    </tr>\n",
       "    <tr>\n",
       "      <th>1</th>\n",
       "      <td>tipo_b</td>\n",
       "      <td>-0.712315</td>\n",
       "    </tr>\n",
       "    <tr>\n",
       "      <th>17</th>\n",
       "      <td>Alitalia</td>\n",
       "      <td>-0.697923</td>\n",
       "    </tr>\n",
       "    <tr>\n",
       "      <th>26</th>\n",
       "      <td>Iberia</td>\n",
       "      <td>-0.598730</td>\n",
       "    </tr>\n",
       "    <tr>\n",
       "      <th>5</th>\n",
       "      <td>Domingo</td>\n",
       "      <td>-0.203368</td>\n",
       "    </tr>\n",
       "    <tr>\n",
       "      <th>21</th>\n",
       "      <td>British Airways</td>\n",
       "      <td>-0.166977</td>\n",
       "    </tr>\n",
       "    <tr>\n",
       "      <th>4</th>\n",
       "      <td>tarde</td>\n",
       "      <td>-0.145891</td>\n",
       "    </tr>\n",
       "    <tr>\n",
       "      <th>8</th>\n",
       "      <td>Martes</td>\n",
       "      <td>-0.105590</td>\n",
       "    </tr>\n",
       "    <tr>\n",
       "      <th>9</th>\n",
       "      <td>Miercoles</td>\n",
       "      <td>-0.093174</td>\n",
       "    </tr>\n",
       "    <tr>\n",
       "      <th>10</th>\n",
       "      <td>Sabado</td>\n",
       "      <td>-0.065630</td>\n",
       "    </tr>\n",
       "    <tr>\n",
       "      <th>2</th>\n",
       "      <td>mañana</td>\n",
       "      <td>-0.007550</td>\n",
       "    </tr>\n",
       "    <tr>\n",
       "      <th>31</th>\n",
       "      <td>Oceanair Linhas Aereas</td>\n",
       "      <td>0.003990</td>\n",
       "    </tr>\n",
       "    <tr>\n",
       "      <th>29</th>\n",
       "      <td>Lacsa</td>\n",
       "      <td>0.021403</td>\n",
       "    </tr>\n",
       "    <tr>\n",
       "      <th>19</th>\n",
       "      <td>Austral</td>\n",
       "      <td>0.046366</td>\n",
       "    </tr>\n",
       "    <tr>\n",
       "      <th>3</th>\n",
       "      <td>noche</td>\n",
       "      <td>0.053625</td>\n",
       "    </tr>\n",
       "    <tr>\n",
       "      <th>0</th>\n",
       "      <td>temporada_alta</td>\n",
       "      <td>0.070289</td>\n",
       "    </tr>\n",
       "    <tr>\n",
       "      <th>6</th>\n",
       "      <td>Jueves</td>\n",
       "      <td>0.075098</td>\n",
       "    </tr>\n",
       "    <tr>\n",
       "      <th>7</th>\n",
       "      <td>Lunes</td>\n",
       "      <td>0.095033</td>\n",
       "    </tr>\n",
       "    <tr>\n",
       "      <th>11</th>\n",
       "      <td>Viernes</td>\n",
       "      <td>0.197815</td>\n",
       "    </tr>\n",
       "    <tr>\n",
       "      <th>12</th>\n",
       "      <td>norm_v_last_6</td>\n",
       "      <td>0.343103</td>\n",
       "    </tr>\n",
       "    <tr>\n",
       "      <th>13</th>\n",
       "      <td>Aerolineas Argentinas</td>\n",
       "      <td>0.405110</td>\n",
       "    </tr>\n",
       "    <tr>\n",
       "      <th>25</th>\n",
       "      <td>Grupo LATAM</td>\n",
       "      <td>0.456475</td>\n",
       "    </tr>\n",
       "    <tr>\n",
       "      <th>34</th>\n",
       "      <td>Sky Airline</td>\n",
       "      <td>0.634311</td>\n",
       "    </tr>\n",
       "    <tr>\n",
       "      <th>27</th>\n",
       "      <td>JetSmart SPA</td>\n",
       "      <td>0.763500</td>\n",
       "    </tr>\n",
       "    <tr>\n",
       "      <th>20</th>\n",
       "      <td>Avianca</td>\n",
       "      <td>0.838350</td>\n",
       "    </tr>\n",
       "    <tr>\n",
       "      <th>24</th>\n",
       "      <td>Gol Trans</td>\n",
       "      <td>1.162514</td>\n",
       "    </tr>\n",
       "    <tr>\n",
       "      <th>15</th>\n",
       "      <td>Air Canada</td>\n",
       "      <td>1.188651</td>\n",
       "    </tr>\n",
       "    <tr>\n",
       "      <th>32</th>\n",
       "      <td>Plus Ultra Lineas Aereas</td>\n",
       "      <td>1.464789</td>\n",
       "    </tr>\n",
       "    <tr>\n",
       "      <th>30</th>\n",
       "      <td>Latin American Wings</td>\n",
       "      <td>1.553180</td>\n",
       "    </tr>\n",
       "    <tr>\n",
       "      <th>33</th>\n",
       "      <td>Qantas Airways</td>\n",
       "      <td>1.658895</td>\n",
       "    </tr>\n",
       "  </tbody>\n",
       "</table>\n",
       "</div>"
      ],
      "text/plain": [
       "                    variable  coeficiente\n",
       "14                Aeromexico    -2.200372\n",
       "23                 Delta Air    -1.401966\n",
       "35           United Airlines    -1.261101\n",
       "28                    K.L.M.    -1.136553\n",
       "18         American Airlines    -1.123853\n",
       "16                Air France    -0.956218\n",
       "22                  Copa Air    -0.753657\n",
       "1                     tipo_b    -0.712315\n",
       "17                  Alitalia    -0.697923\n",
       "26                    Iberia    -0.598730\n",
       "5                    Domingo    -0.203368\n",
       "21           British Airways    -0.166977\n",
       "4                      tarde    -0.145891\n",
       "8                     Martes    -0.105590\n",
       "9                  Miercoles    -0.093174\n",
       "10                    Sabado    -0.065630\n",
       "2                     mañana    -0.007550\n",
       "31    Oceanair Linhas Aereas     0.003990\n",
       "29                     Lacsa     0.021403\n",
       "19                   Austral     0.046366\n",
       "3                      noche     0.053625\n",
       "0             temporada_alta     0.070289\n",
       "6                     Jueves     0.075098\n",
       "7                      Lunes     0.095033\n",
       "11                   Viernes     0.197815\n",
       "12             norm_v_last_6     0.343103\n",
       "13     Aerolineas Argentinas     0.405110\n",
       "25               Grupo LATAM     0.456475\n",
       "34               Sky Airline     0.634311\n",
       "27              JetSmart SPA     0.763500\n",
       "20                   Avianca     0.838350\n",
       "24                 Gol Trans     1.162514\n",
       "15                Air Canada     1.188651\n",
       "32  Plus Ultra Lineas Aereas     1.464789\n",
       "30      Latin American Wings     1.553180\n",
       "33            Qantas Airways     1.658895"
      ]
     },
     "execution_count": 49,
     "metadata": {},
     "output_type": "execute_result"
    }
   ],
   "source": [
    "data = {'variable': X_train.columns.values, 'coeficiente': model.coef_[0]}\n",
    "coeficientes = pd.DataFrame(data=data)\n",
    "coeficientes.sort_values('coeficiente')"
   ]
  },
  {
   "cell_type": "markdown",
   "metadata": {},
   "source": [
    "Las variables que tienen un alto valor positivo o negativo en sus coeficientes del regresor tienen un mayor impacto en el modelo.\n",
    "\n",
    "**La variable que más afecta la probabilidad de que un vuelo se atrase o no, es la areolinea que opera el vuelo.**\n",
    "\n",
    "Otras caracteristicas importantes son: cantidad de vuelos programados en las últimas 6 horas, vuelo en dia viernes o domingo, vuelo en la tarde."
   ]
  },
  {
   "cell_type": "markdown",
   "metadata": {},
   "source": [
    "## ¿Cómo podrías mejorar la performance?\n",
    "\n",
    "1. Se pueden añadir / quitar features según la importancia obtenida, para entrenar el modelo con una selección mas fina de variables.\n",
    "2. Utilizar un modelo de mayor complejidad como Random Forest, XGBoost. Tenemos suficientes registros (>60k) para utilizar otro tipo de modelo.\n",
    "3. Crear nuevas features que permitan capturar mejor ciertos patrones de vuelos atrasados."
   ]
  }
 ],
 "metadata": {
  "kernelspec": {
   "display_name": "Python 3.11.0 ('premier-test')",
   "language": "python",
   "name": "python3"
  },
  "language_info": {
   "codemirror_mode": {
    "name": "ipython",
    "version": 3
   },
   "file_extension": ".py",
   "mimetype": "text/x-python",
   "name": "python",
   "nbconvert_exporter": "python",
   "pygments_lexer": "ipython3",
   "version": "3.11.0"
  },
  "orig_nbformat": 4,
  "vscode": {
   "interpreter": {
    "hash": "7872735e353004fc53505fa026cec2d6e4ec5ba157960d15594f4aff1692a9f1"
   }
  }
 },
 "nbformat": 4,
 "nbformat_minor": 2
}
