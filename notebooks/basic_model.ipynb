{
 "cells": [
  {
   "cell_type": "markdown",
   "metadata": {},
   "source": [
    "# Predicción de atraso\n",
    "\n",
    "Dado un vuelo, podemos conocer desde antemano su fecha planificada y sus caracteristicas asociadas, la aerolinea que opera, su destino y la densidad de vuelos programados para cada día.\n",
    "\n",
    "Buscamos predecir si un vuelo va a tener un atraso mayor a 15 minutos.\n",
    "\n",
    "Sabemos a priori que el 18.4% de los vuelos se atrasan más de 15 minutos, mientras que un 81.6% de los vuelos no se atrasan.\n",
    "\n",
    "La variable objetivo `atraso_15` tiene un valor 1 si el vuelo se atrasa, y un 0 en caso constrario.\n",
    "\n",
    "Necesitamos un modelo que sea capaz de utilizar features booleanas (1 o 0) y númericas, y entregar un resultado booleano."
   ]
  },
  {
   "cell_type": "code",
   "execution_count": 140,
   "metadata": {},
   "outputs": [
    {
     "data": {
      "text/plain": [
       "Index(['Fecha-I', 'Vlo-I', 'Ori-I', 'Des-I', 'Emp-I', 'Fecha-O', 'Vlo-O',\n",
       "       'Ori-O', 'Des-O', 'Emp-O', 'DIA', 'MES', 'AÑO', 'DIANOM', 'TIPOVUELO',\n",
       "       'OPERA', 'SIGLAORI', 'SIGLADES', 'temporada_alta', 'dif_min',\n",
       "       'atraso_15', 'periodo_dia', 'hora', 'v_last_12', 'v_next_12',\n",
       "       'v_last_6', 'v_next_6', 'v_last_3', 'v_next_3'],\n",
       "      dtype='object')"
      ]
     },
     "execution_count": 140,
     "metadata": {},
     "output_type": "execute_result"
    }
   ],
   "source": [
    "import pandas as pd\n",
    "\n",
    "features_scl = pd.read_csv('../clean_data/synthetic_features.csv', parse_dates=['Fecha-I', 'Fecha-O'])\n",
    "\n",
    "features_scl.columns"
   ]
  },
  {
   "cell_type": "markdown",
   "metadata": {},
   "source": [
    "## Features a utilizar\n",
    "\n",
    "Empezaremos con una cantidad limitada de features para nuestro primer modelo, necesitamos realizar un tratamiento a nuestras features categoricas y númericas.\n",
    "- Tipo de vuelo (nacional vs internacional) -> Nacional 1 y Internacional 0\n",
    "- Temporada alta vs temporada baja -> alta 1 y baja 0\n",
    "- Hora día: Mañana - Tarde - Noche -> One hot encoding\n",
    "- Día de la semana -> One hot encoding o Variable ciclica sinusoidal\n",
    "- Cantidad de vuelos programados últimas 6 horas -> Variable continua positiva (normalizar)\n",
    "\n",
    "One-hot-encoding: Transformar variables categoricas en multiples variables booleanas.\n",
    "Variable ciclica sinusoidal: Transformar fechas (día del año, día del mes, día de la semana) en seno y coseno para capturar orden y naturaleza ciclica en variables númericas."
   ]
  },
  {
   "cell_type": "code",
   "execution_count": 142,
   "metadata": {},
   "outputs": [
    {
     "data": {
      "text/plain": [
       "Index(['Fecha-I', 'Vlo-I', 'Ori-I', 'Des-I', 'Emp-I', 'Fecha-O', 'Vlo-O',\n",
       "       'Ori-O', 'Des-O', 'Emp-O', 'DIA', 'MES', 'AÑO', 'DIANOM', 'TIPOVUELO',\n",
       "       'OPERA', 'SIGLAORI', 'SIGLADES', 'temporada_alta', 'dif_min',\n",
       "       'atraso_15', 'periodo_dia', 'hora', 'v_last_12', 'v_next_12',\n",
       "       'v_last_6', 'v_next_6', 'v_last_3', 'v_next_3'],\n",
       "      dtype='object')"
      ]
     },
     "execution_count": 142,
     "metadata": {},
     "output_type": "execute_result"
    }
   ],
   "source": [
    "features_scl.columns"
   ]
  },
  {
   "cell_type": "code",
   "execution_count": 143,
   "metadata": {},
   "outputs": [],
   "source": [
    "import numpy as np\n",
    "# Tipo vuelo en variable booleana\n",
    "features_scl['tipo_b'] = np.where(features_scl['TIPOVUELO']=='N', 1, 0)"
   ]
  },
  {
   "cell_type": "code",
   "execution_count": 144,
   "metadata": {},
   "outputs": [],
   "source": [
    "periodo_dia_ohe = pd.get_dummies(features_scl['periodo_dia'])\n",
    "features_scl = features_scl.join(periodo_dia_ohe)"
   ]
  },
  {
   "cell_type": "code",
   "execution_count": 145,
   "metadata": {},
   "outputs": [],
   "source": [
    "dianom_ohe = pd.get_dummies(features_scl['DIANOM'])\n",
    "features_scl = features_scl.join(dianom_ohe)"
   ]
  },
  {
   "cell_type": "code",
   "execution_count": 146,
   "metadata": {},
   "outputs": [],
   "source": [
    "opera_ohe = pd.get_dummies(features_scl['OPERA'])\n",
    "features_scl = features_scl.join(opera_ohe)"
   ]
  },
  {
   "cell_type": "code",
   "execution_count": 147,
   "metadata": {},
   "outputs": [],
   "source": [
    "# mean normalization\n",
    "features_scl['norm_v_last_6'] = (\n",
    "    (\n",
    "        features_scl['v_last_6'] -\n",
    "        features_scl['v_last_6'].mean()\n",
    "    ) / \n",
    "    features_scl['v_last_6'].std()\n",
    ")"
   ]
  },
  {
   "cell_type": "code",
   "execution_count": 178,
   "metadata": {},
   "outputs": [],
   "source": [
    "# Columns into model\n",
    "model_columns = [\n",
    "    'temporada_alta', 'tipo_b',\n",
    "    'mañana', 'noche', 'tarde', \n",
    "    'Domingo', 'Jueves', 'Lunes', 'Martes',\n",
    "    'Miercoles', 'Sabado', 'Viernes', 'norm_v_last_6',\n",
    "    'Aerolineas Argentinas', 'Aeromexico',\n",
    "    'Air Canada', 'Air France', 'Alitalia', 'American Airlines', 'Austral',\n",
    "    'Avianca', 'British Airways', 'Copa Air', 'Delta Air', 'Gol Trans',\n",
    "    'Grupo LATAM', 'Iberia', 'JetSmart SPA', 'K.L.M.', 'Lacsa',\n",
    "    'Latin American Wings', 'Oceanair Linhas Aereas',\n",
    "    'Plus Ultra Lineas Aereas', 'Qantas Airways', 'Sky Airline',\n",
    "    'United Airlines'\n",
    "]\n",
    "\n",
    "X = features_scl.loc[:,model_columns]\n",
    "y = features_scl['atraso_15']"
   ]
  },
  {
   "cell_type": "markdown",
   "metadata": {},
   "source": [
    "## Modelo Regresión logistica binaria\n",
    "\n",
    "Ejemplo: [Handling imbalanced data with class weights in logistic regression](https://analyticsindiamag.com/handling-imbalanced-data-with-class-weights-in-logistic-regression/)\n",
    "\n",
    "Tenemos una salida de dos clases (atraso = 1, no atraso = 0). Algoritmo rápido, simple y fácil de interpretar.\n",
    "\n",
    "Separar features y target (atraso_15) en dos grupos, uno para entrenar el modelo, y otro para evaluar el modelo. Podemos separar los registros de manera aleatoria, dado que todas las features se pueden conocer con anticipación. Y vamos a asumir que entre un año y otro las features de temporalidad se mantienen constantes."
   ]
  },
  {
   "cell_type": "code",
   "execution_count": 179,
   "metadata": {},
   "outputs": [],
   "source": [
    "from sklearn.model_selection import train_test_split\n",
    "from sklearn.linear_model import LogisticRegression\n",
    "\n",
    "X_train, X_test, y_train, y_test = train_test_split(\n",
    "    X, y, test_size=0.3, random_state=42\n",
    ")\n",
    "\n",
    "logreg = LogisticRegression(random_state=42, class_weight='balanced') # Unbalanced dataset\n",
    "model = logreg.fit(X_train, y_train) # Fit model\n",
    "\n",
    "y_pred = model.predict(X_test)"
   ]
  },
  {
   "cell_type": "markdown",
   "metadata": {},
   "source": [
    "En la variable prediction tenemos los resultados de las predicciones para el modelo. Ahora tenemos que comprar las predicciones con los valores reales conocidos."
   ]
  },
  {
   "cell_type": "markdown",
   "metadata": {},
   "source": [
    "Conceptos importantes:\n",
    "* True positive — for correctly precited event values\n",
    "* True negative — for correctly predicted no-event values\n",
    "* False positive — for incorrectly predicted event values\n",
    "* False negative — for incorrectly predicted no-event values"
   ]
  },
  {
   "cell_type": "markdown",
   "metadata": {},
   "source": [
    "Para evaluar el modelo utilizaremos una matriz de confusión, y obtener nuestra precisión TP/(TP+FP) y Recall TP/(TP+FN). Finalmente utilizaremos la métrica F1-score, que es la media armonica entre presición y recall, y nos ayuda en este caso donde nuestras clases están desbalanceadas"
   ]
  },
  {
   "cell_type": "code",
   "execution_count": 180,
   "metadata": {},
   "outputs": [
    {
     "data": {
      "image/png": "[encoded data removed]",
      "text/plain": [
       "<Figure size 640x480 with 2 Axes>"
      ]
     },
     "metadata": {},
     "output_type": "display_data"
    }
   ],
   "source": [
    "from sklearn import metrics\n",
    "import matplotlib.pyplot as plt\n",
    "\n",
    "confusion_matrix = metrics.confusion_matrix(y_test, y_pred)\n",
    "cm_display = metrics.ConfusionMatrixDisplay(confusion_matrix = confusion_matrix, display_labels = [False, True])\n",
    "\n",
    "cm_display.plot()\n",
    "plt.show()"
   ]
  },
  {
   "cell_type": "code",
   "execution_count": 181,
   "metadata": {},
   "outputs": [
    {
     "name": "stdout",
     "output_type": "stream",
     "text": [
      "Accuracy 0.622\n",
      "Precision 0.275\n",
      "Recall 0.624\n",
      "F1 Score 0.382\n"
     ]
    }
   ],
   "source": [
    "from sklearn.metrics import f1_score, accuracy_score, precision_score, recall_score\n",
    "## Accuracy\n",
    "print('Accuracy', round(accuracy_score(y_test, y_pred),3))\n",
    "## Precision\n",
    "print('Precision', round(precision_score(y_test, y_pred),3))\n",
    "## Recall\n",
    "print('Recall', round(recall_score(y_test, y_pred),3))\n",
    "## F1 Score\n",
    "print('F1 Score', round(f1_score(y_test, y_pred),3))"
   ]
  },
  {
   "cell_type": "markdown",
   "metadata": {},
   "source": [
    "El regresor lógistico puede capturar ciertos patrones, es mejor que un resultado aleatorio (Precision > 0.50).\n",
    "\n",
    "Pero solo puede predecir correctamente un 62.4% (recall) de los atrasos reales.\n",
    "\n",
    "### Cuales son las variables que más influyen en la predicción?"
   ]
  },
  {
   "cell_type": "code",
   "execution_count": null,
   "metadata": {},
   "outputs": [],
   "source": []
  }
 ],
 "metadata": {
  "kernelspec": {
   "display_name": "Python 3.11.0 ('premier-test')",
   "language": "python",
   "name": "python3"
  },
  "language_info": {
   "codemirror_mode": {
    "name": "ipython",
    "version": 3
   },
   "file_extension": ".py",
   "mimetype": "text/x-python",
   "name": "python",
   "nbconvert_exporter": "python",
   "pygments_lexer": "ipython3",
   "version": "3.11.0"
  },
  "orig_nbformat": 4,
  "vscode": {
   "interpreter": {
    "hash": "7872735e353004fc53505fa026cec2d6e4ec5ba157960d15594f4aff1692a9f1"
   }
  }
 },
 "nbformat": 4,
 "nbformat_minor": 2
}
